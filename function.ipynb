{
 "cells": [
  {
   "cell_type": "code",
   "execution_count": 1,
   "id": "c8a8d3a4",
   "metadata": {},
   "outputs": [],
   "source": []
  },
  {
   "cell_type": "code",
   "execution_count": null,
   "id": "e868b36e",
   "metadata": {},
   "outputs": [],
   "source": []
  },
  {
   "cell_type": "code",
   "execution_count": null,
   "id": "1602ba84",
   "metadata": {},
   "outputs": [],
   "source": []
  },
  {
   "cell_type": "code",
   "execution_count": 3,
   "id": "b5bdf433",
   "metadata": {},
   "outputs": [
    {
     "name": "stdout",
     "output_type": "stream",
     "text": [
      "Hello World\n"
     ]
    }
   ],
   "source": [
    "def fun():\n",
    "    print(\"Hello World\")\n",
    "    \n",
    "fun()"
   ]
  },
  {
   "cell_type": "code",
   "execution_count": 4,
   "id": "0567b9a7",
   "metadata": {},
   "outputs": [
    {
     "data": {
      "text/plain": [
       "3"
      ]
     },
     "execution_count": 4,
     "metadata": {},
     "output_type": "execute_result"
    }
   ],
   "source": [
    "def fun(a,b):\n",
    "    return a+b\n",
    "fun(1,2)"
   ]
  },
  {
   "cell_type": "code",
   "execution_count": 5,
   "id": "c326fed2",
   "metadata": {},
   "outputs": [
    {
     "name": "stdout",
     "output_type": "stream",
     "text": [
      "this are the perameters values 1 2\n"
     ]
    }
   ],
   "source": [
    "def fun(a,b):\n",
    "    print(\"this are the perameters values\",a,b)\n",
    "fun(1,2)"
   ]
  },
  {
   "cell_type": "code",
   "execution_count": 8,
   "id": "28f64e18",
   "metadata": {},
   "outputs": [
    {
     "name": "stdout",
     "output_type": "stream",
     "text": [
      "this are the perameters values (1, 2, 3)\n"
     ]
    }
   ],
   "source": [
    "def fun(*a):\n",
    "    print(\"this are the perameters values\",a)\n",
    "fun(1,2,3)"
   ]
  },
  {
   "cell_type": "code",
   "execution_count": 9,
   "id": "dc77fdc8",
   "metadata": {},
   "outputs": [
    {
     "name": "stdout",
     "output_type": "stream",
     "text": [
      "this are the perameters values (1, 'srinath', 45000.55, True)\n"
     ]
    }
   ],
   "source": [
    "def fun(*a):\n",
    "    print(\"this are the perameters values\",a)\n",
    "fun(1,\"srinath\",45000.55,True)"
   ]
  },
  {
   "cell_type": "code",
   "execution_count": 16,
   "id": "fa52f2ff",
   "metadata": {},
   "outputs": [
    {
     "name": "stdout",
     "output_type": "stream",
     "text": [
      "this are the perameters values {'eid': 101, 'ename': 'srinath', 'esal': 2500000}\n"
     ]
    }
   ],
   "source": [
    "def fun(**a):\n",
    "    print(\"this are the perameters values\",a)\n",
    "fun(eid=101,ename=\"srinath\",esal=2500000)"
   ]
  },
  {
   "cell_type": "code",
   "execution_count": 19,
   "id": "cc81e8c0",
   "metadata": {},
   "outputs": [
    {
     "ename": "NameError",
     "evalue": "name 'toal' is not defined",
     "output_type": "error",
     "traceback": [
      "\u001b[1;31m---------------------------------------------------------------------------\u001b[0m",
      "\u001b[1;31mNameError\u001b[0m                                 Traceback (most recent call last)",
      "Cell \u001b[1;32mIn[19], line 6\u001b[0m\n\u001b[0;32m      4\u001b[0m         total\u001b[38;5;241m=\u001b[39mtoal\u001b[38;5;241m+\u001b[39mvalue\n\u001b[0;32m      5\u001b[0m     \u001b[38;5;28;01mreturn\u001b[39;00m total\n\u001b[1;32m----> 6\u001b[0m \u001b[38;5;28mprint\u001b[39m(fun(\u001b[38;5;241m1\u001b[39m,\u001b[38;5;241m2\u001b[39m,\u001b[38;5;241m3\u001b[39m))\n",
      "Cell \u001b[1;32mIn[19], line 4\u001b[0m, in \u001b[0;36mfun\u001b[1;34m(*a)\u001b[0m\n\u001b[0;32m      2\u001b[0m total\u001b[38;5;241m=\u001b[39m\u001b[38;5;241m0\u001b[39m\n\u001b[0;32m      3\u001b[0m \u001b[38;5;28;01mfor\u001b[39;00m value \u001b[38;5;129;01min\u001b[39;00m a:\n\u001b[1;32m----> 4\u001b[0m     total\u001b[38;5;241m=\u001b[39mtoal\u001b[38;5;241m+\u001b[39mvalue\n\u001b[0;32m      5\u001b[0m \u001b[38;5;28;01mreturn\u001b[39;00m total\n",
      "\u001b[1;31mNameError\u001b[0m: name 'toal' is not defined"
     ]
    }
   ],
   "source": [
    "def fun(*a):\n",
    "    total=0\n",
    "    for value in a:\n",
    "        total=toal+value\n",
    "    return total\n",
    "print(fun(1,2,3))"
   ]
  },
  {
   "cell_type": "code",
   "execution_count": null,
   "id": "0d731bbf",
   "metadata": {},
   "outputs": [],
   "source": []
  }
 ],
 "metadata": {
  "kernelspec": {
   "display_name": "Python 3 (ipykernel)",
   "language": "python",
   "name": "python3"
  },
  "language_info": {
   "codemirror_mode": {
    "name": "ipython",
    "version": 3
   },
   "file_extension": ".py",
   "mimetype": "text/x-python",
   "name": "python",
   "nbconvert_exporter": "python",
   "pygments_lexer": "ipython3",
   "version": "3.11.4"
  }
 },
 "nbformat": 4,
 "nbformat_minor": 5
}
