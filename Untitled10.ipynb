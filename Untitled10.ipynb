{
 "cells": [
  {
   "cell_type": "code",
   "execution_count": 2,
   "id": "33f3c2fd",
   "metadata": {},
   "outputs": [
    {
     "name": "stdout",
     "output_type": "stream",
     "text": [
      "enter your pin and withdraw amount1435@4000\n",
      "user pin 1435\n",
      "withdraw amount 4000\n",
      "in the bank; 96000\n",
      "take your cash 4000,balnce in your account 96000\n"
     ]
    }
   ],
   "source": [
    "pin,cash=input('enter your pin and withdraw amount').split('@')\n",
    "print('user pin',pin)\n",
    "print('withdraw amount',cash)                                                          \n",
    "cashvalue=int(cash)\n",
    "#cashout=4000\n",
    "#print('collect ur money',cash,cashout,sep='@@',end='$$$')\n",
    "#print(\"tq using for this ATM\",end='\\t')\n",
    "#print(\"your balance:\")#\n",
    "#print(type(cashvalue))\n",
    "remaingamount=100000\n",
    "currentbalnce=remaingamount-cashvalue\n",
    "print(\"in the bank;\",currentbalnce)\n",
    "print('take your cash {0},balnce in your account {1}'.format(cashvalue,currentbalnce))"
   ]
  },
  {
   "cell_type": "code",
   "execution_count": 6,
   "id": "85073970",
   "metadata": {},
   "outputs": [
    {
     "name": "stdout",
     "output_type": "stream",
     "text": [
      "enter the number4@5@1\n"
     ]
    },
    {
     "ename": "ValueError",
     "evalue": "invalid literal for int() with base 10: '4@5@1'",
     "output_type": "error",
     "traceback": [
      "\u001b[1;31m---------------------------------------------------------------------------\u001b[0m",
      "\u001b[1;31mValueError\u001b[0m                                Traceback (most recent call last)",
      "Cell \u001b[1;32mIn[6], line 1\u001b[0m\n\u001b[1;32m----> 1\u001b[0m a,b,c\u001b[38;5;241m=\u001b[39m\u001b[38;5;28mint\u001b[39m(\u001b[38;5;28minput\u001b[39m(\u001b[38;5;124m\"\u001b[39m\u001b[38;5;124menter the number\u001b[39m\u001b[38;5;124m\"\u001b[39m))\u001b[38;5;241m.\u001b[39msplit(\u001b[38;5;124m'\u001b[39m\u001b[38;5;124m@\u001b[39m\u001b[38;5;124m'\u001b[39m)\n\u001b[0;32m      2\u001b[0m \u001b[38;5;28;01mif\u001b[39;00m a\u001b[38;5;241m<\u001b[39mb \u001b[38;5;129;01mand\u001b[39;00m a\u001b[38;5;241m<\u001b[39mc:\n\u001b[0;32m      3\u001b[0m         \u001b[38;5;28mprint\u001b[39m(\u001b[38;5;124m\"\u001b[39m\u001b[38;5;124mmin value\u001b[39m\u001b[38;5;124m\"\u001b[39m,a)\n",
      "\u001b[1;31mValueError\u001b[0m: invalid literal for int() with base 10: '4@5@1'"
     ]
    }
   ],
   "source": [
    "a,b,c=int(input(\"enter the number\")).split('@')\n",
    "if a<b and a<c:\n",
    "        print(\"min value\",a)\n",
    "elif(b<c):\n",
    "    print(\"min\",b)\n",
    "else:\n",
    "    print(\"min\",c)"
   ]
  },
  {
   "cell_type": "code",
   "execution_count": null,
   "id": "09fe266e",
   "metadata": {},
   "outputs": [],
   "source": []
  }
 ],
 "metadata": {
  "kernelspec": {
   "display_name": "Python 3 (ipykernel)",
   "language": "python",
   "name": "python3"
  },
  "language_info": {
   "codemirror_mode": {
    "name": "ipython",
    "version": 3
   },
   "file_extension": ".py",
   "mimetype": "text/x-python",
   "name": "python",
   "nbconvert_exporter": "python",
   "pygments_lexer": "ipython3",
   "version": "3.11.4"
  }
 },
 "nbformat": 4,
 "nbformat_minor": 5
}
