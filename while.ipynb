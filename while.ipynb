{
 "cells": [
  {
   "cell_type": "code",
   "execution_count": null,
   "id": "454bacc9",
   "metadata": {},
   "outputs": [],
   "source": []
  },
  {
   "cell_type": "code",
   "execution_count": 6,
   "id": "e389ac00",
   "metadata": {},
   "outputs": [
    {
     "name": "stdout",
     "output_type": "stream",
     "text": [
      "['srinath', 'amith', 'kiran', 'anil', 'deekshith']\n",
      "['srinath', 'amith', 'kiran', 'anil', 'deekshith']\n",
      "['srinath', 'amith', 'kiran', 'anil', 'deekshith']\n",
      "['srinath', 'amith', 'kiran', 'anil', 'deekshith']\n",
      "['srinath', 'amith', 'kiran', 'anil', 'deekshith']\n"
     ]
    }
   ],
   "source": [
    "enames=[\"srinath\",'amith',\"kiran\",\"anil\",'deekshith']\n",
    "i =0\n",
    "while i< len(enames):\n",
    "    print(enames)\n",
    "    i=i+1"
   ]
  },
  {
   "cell_type": "code",
   "execution_count": 7,
   "id": "c6f779e1",
   "metadata": {},
   "outputs": [
    {
     "name": "stdout",
     "output_type": "stream",
     "text": [
      "srinath\n",
      "amith\n",
      "kiran\n",
      "anil\n",
      "deekshith\n"
     ]
    }
   ],
   "source": [
    "enames=[\"srinath\",'amith',\"kiran\",\"anil\",'deekshith']\n",
    "i =0\n",
    "while i< len(enames):\n",
    "    print(enames[i])\n",
    "    i=i+1"
   ]
  },
  {
   "cell_type": "code",
   "execution_count": 8,
   "id": "0b079505",
   "metadata": {},
   "outputs": [
    {
     "name": "stdout",
     "output_type": "stream",
     "text": [
      "srinath\n",
      "amith\n",
      "kiran\n",
      "anil\n",
      "deekshith\n"
     ]
    },
    {
     "ename": "IndexError",
     "evalue": "list index out of range",
     "output_type": "error",
     "traceback": [
      "\u001b[1;31m---------------------------------------------------------------------------\u001b[0m",
      "\u001b[1;31mIndexError\u001b[0m                                Traceback (most recent call last)",
      "Cell \u001b[1;32mIn[8], line 4\u001b[0m\n\u001b[0;32m      2\u001b[0m i \u001b[38;5;241m=\u001b[39m\u001b[38;5;241m0\u001b[39m\n\u001b[0;32m      3\u001b[0m \u001b[38;5;28;01mwhile\u001b[39;00m i\u001b[38;5;241m<\u001b[39m\u001b[38;5;241m=\u001b[39m\u001b[38;5;28mlen\u001b[39m(enames):\n\u001b[1;32m----> 4\u001b[0m     \u001b[38;5;28mprint\u001b[39m(enames[i])\n\u001b[0;32m      5\u001b[0m     i\u001b[38;5;241m=\u001b[39mi\u001b[38;5;241m+\u001b[39m\u001b[38;5;241m1\u001b[39m\n",
      "\u001b[1;31mIndexError\u001b[0m: list index out of range"
     ]
    }
   ],
   "source": [
    "enames=[\"srinath\",'amith',\"kiran\",\"anil\",'deekshith']\n",
    "i =0\n",
    "while i<=len(enames):\n",
    "    print(enames[i])\n",
    "    i=i+1"
   ]
  },
  {
   "cell_type": "code",
   "execution_count": 9,
   "id": "c18fc372",
   "metadata": {},
   "outputs": [
    {
     "name": "stdout",
     "output_type": "stream",
     "text": [
      "srinath\n",
      "amith\n",
      "kiran\n",
      "anil\n",
      "deekshith\n"
     ]
    }
   ],
   "source": [
    "enames=[\"srinath\",'amith',\"kiran\",\"anil\",'deekshith']\n",
    "i =0\n",
    "while i<=len(enames)-1:\n",
    "    print(enames[i])\n",
    "    i=i+1"
   ]
  },
  {
   "cell_type": "code",
   "execution_count": null,
   "id": "1a71c754",
   "metadata": {},
   "outputs": [],
   "source": []
  }
 ],
 "metadata": {
  "kernelspec": {
   "display_name": "Python 3 (ipykernel)",
   "language": "python",
   "name": "python3"
  },
  "language_info": {
   "codemirror_mode": {
    "name": "ipython",
    "version": 3
   },
   "file_extension": ".py",
   "mimetype": "text/x-python",
   "name": "python",
   "nbconvert_exporter": "python",
   "pygments_lexer": "ipython3",
   "version": "3.11.4"
  }
 },
 "nbformat": 4,
 "nbformat_minor": 5
}
