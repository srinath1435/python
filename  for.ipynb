{
 "cells": [
  {
   "cell_type": "code",
   "execution_count": 1,
   "id": "1513b2b7",
   "metadata": {},
   "outputs": [
    {
     "ename": "TypeError",
     "evalue": "'float' object cannot be interpreted as an integer",
     "output_type": "error",
     "traceback": [
      "\u001b[1;31m---------------------------------------------------------------------------\u001b[0m",
      "\u001b[1;31mTypeError\u001b[0m                                 Traceback (most recent call last)",
      "Cell \u001b[1;32mIn[1], line 1\u001b[0m\n\u001b[1;32m----> 1\u001b[0m \u001b[38;5;28;01mfor\u001b[39;00m num \u001b[38;5;129;01min\u001b[39;00m \u001b[38;5;28mrange\u001b[39m(\u001b[38;5;241m0\u001b[39m,\u001b[38;5;241m20.2\u001b[39m):\n\u001b[0;32m      2\u001b[0m     \u001b[38;5;28mprint\u001b[39m(num)\n",
      "\u001b[1;31mTypeError\u001b[0m: 'float' object cannot be interpreted as an integer"
     ]
    }
   ],
   "source": [
    "for num in range(0,20.2):\n",
    "    print(num)"
   ]
  },
  {
   "cell_type": "code",
   "execution_count": 2,
   "id": "d328fa21",
   "metadata": {},
   "outputs": [
    {
     "name": "stdout",
     "output_type": "stream",
     "text": [
      "0\n",
      "2\n",
      "4\n",
      "6\n",
      "8\n",
      "10\n",
      "12\n",
      "14\n",
      "16\n",
      "18\n"
     ]
    }
   ],
   "source": []
  },
  {
   "cell_type": "code",
   "execution_count": null,
   "id": "50ef84d0",
   "metadata": {},
   "outputs": [],
   "source": []
  },
  {
   "cell_type": "code",
   "execution_count": null,
   "id": "9757bf35",
   "metadata": {},
   "outputs": [],
   "source": []
  },
  {
   "cell_type": "code",
   "execution_count": 3,
   "id": "123b2772",
   "metadata": {},
   "outputs": [
    {
     "name": "stdout",
     "output_type": "stream",
     "text": [
      "0\n",
      "1\n",
      "2\n",
      "3\n",
      "4\n",
      "5\n",
      "6\n",
      "7\n",
      "8\n",
      "9\n",
      "10\n",
      "11\n",
      "12\n",
      "13\n",
      "14\n",
      "15\n",
      "16\n",
      "17\n",
      "18\n",
      "19\n"
     ]
    }
   ],
   "source": [
    "for num in range(20):\n",
    "    print(num)"
   ]
  },
  {
   "cell_type": "code",
   "execution_count": 4,
   "id": "10952362",
   "metadata": {},
   "outputs": [
    {
     "name": "stdout",
     "output_type": "stream",
     "text": [
      "1\n",
      "2\n",
      "3\n",
      "4\n",
      "5\n",
      "6\n",
      "7\n",
      "8\n",
      "9\n",
      "10\n",
      "11\n",
      "12\n",
      "13\n",
      "14\n",
      "15\n",
      "16\n",
      "17\n",
      "18\n",
      "19\n",
      "20\n"
     ]
    }
   ],
   "source": [
    "num =1\n",
    "while num<=20:\n",
    "    print(num)\n",
    "    num=num+1"
   ]
  },
  {
   "cell_type": "code",
   "execution_count": 5,
   "id": "d28300ee",
   "metadata": {},
   "outputs": [
    {
     "ename": "SyntaxError",
     "evalue": "expected ':' (779940409.py, line 2)",
     "output_type": "error",
     "traceback": [
      "\u001b[1;36m  Cell \u001b[1;32mIn[5], line 2\u001b[1;36m\u001b[0m\n\u001b[1;33m    while num<=20\u001b[0m\n\u001b[1;37m                 ^\u001b[0m\n\u001b[1;31mSyntaxError\u001b[0m\u001b[1;31m:\u001b[0m expected ':'\n"
     ]
    }
   ],
   "source": [
    "num =1\n",
    "while num<=20\n",
    "    print(num)\n",
    "    num=num+1"
   ]
  },
  {
   "cell_type": "code",
   "execution_count": 6,
   "id": "f3ed48bd",
   "metadata": {},
   "outputs": [
    {
     "name": "stdout",
     "output_type": "stream",
     "text": [
      "1\n",
      "2\n",
      "3\n",
      "4\n",
      "5\n",
      "6\n",
      "7\n",
      "8\n",
      "9\n",
      "10\n",
      "11\n",
      "12\n",
      "13\n",
      "14\n",
      "15\n",
      "16\n",
      "17\n",
      "18\n",
      "19\n",
      "20\n"
     ]
    }
   ],
   "source": [
    "num =1\n",
    "while num<=20:\n",
    "    print(num)\n",
    "    num=num+1"
   ]
  },
  {
   "cell_type": "code",
   "execution_count": 7,
   "id": "c8b004b0",
   "metadata": {},
   "outputs": [
    {
     "ename": "SyntaxError",
     "evalue": "invalid syntax (169760041.py, line 2)",
     "output_type": "error",
     "traceback": [
      "\u001b[1;36m  Cell \u001b[1;32mIn[7], line 2\u001b[1;36m\u001b[0m\n\u001b[1;33m    while num<100 and num==%2:\u001b[0m\n\u001b[1;37m                           ^\u001b[0m\n\u001b[1;31mSyntaxError\u001b[0m\u001b[1;31m:\u001b[0m invalid syntax\n"
     ]
    }
   ],
   "source": [
    "num =0\n",
    "while num==%2:\n",
    "    print(num)\n",
    "    num=num+1"
   ]
  },
  {
   "cell_type": "code",
   "execution_count": 9,
   "id": "717b97bd",
   "metadata": {},
   "outputs": [
    {
     "name": "stdout",
     "output_type": "stream",
     "text": [
      "0\n",
      "1\n",
      "2\n",
      "3\n",
      "4\n",
      "5\n",
      "6\n",
      "7\n",
      "8\n",
      "9\n",
      "10\n",
      "11\n",
      "12\n",
      "13\n",
      "14\n",
      "15\n",
      "16\n",
      "17\n",
      "18\n",
      "19\n",
      "20\n"
     ]
    }
   ],
   "source": [
    "num =0\n",
    "while num<=20:\n",
    "    print(num)\n",
    "    num=num+1"
   ]
  },
  {
   "cell_type": "code",
   "execution_count": 10,
   "id": "8a625287",
   "metadata": {},
   "outputs": [
    {
     "name": "stdout",
     "output_type": "stream",
     "text": [
      "0\n",
      "2\n",
      "4\n",
      "6\n",
      "8\n",
      "10\n",
      "12\n",
      "14\n",
      "16\n",
      "18\n",
      "20\n"
     ]
    }
   ],
   "source": [
    "num =0\n",
    "while num<=20:\n",
    "    print(num)\n",
    "    num=num+2"
   ]
  },
  {
   "cell_type": "code",
   "execution_count": 14,
   "id": "53a8cab1",
   "metadata": {},
   "outputs": [
    {
     "name": "stdout",
     "output_type": "stream",
     "text": [
      "even\n"
     ]
    }
   ],
   "source": [
    "num=2546\n",
    "if num%2==0:\n",
    "    print(\"even\")\n",
    "else:\n",
    "    print(\"odd\")"
   ]
  },
  {
   "cell_type": "code",
   "execution_count": 18,
   "id": "da5f301f",
   "metadata": {},
   "outputs": [
    {
     "name": "stdout",
     "output_type": "stream",
     "text": [
      "not\n"
     ]
    }
   ],
   "source": [
    "num= 77\n",
    "if num>=100 and num>=999:\n",
    "    print(\"yes\")\n",
    "else:\n",
    "    print(\"not\")"
   ]
  },
  {
   "cell_type": "code",
   "execution_count": 24,
   "id": "9016a952",
   "metadata": {},
   "outputs": [
    {
     "name": "stdout",
     "output_type": "stream",
     "text": [
      "enter the number:-23\n",
      "it's not 3digit number: 23\n"
     ]
    }
   ],
   "source": [
    "num =int(input(\"enter the number:-\"))\n",
    "if num>=100 and num<=999:\n",
    "    print(\"it is 3digit number:\",num)\n",
    "else:\n",
    "    print(\"it's not 3digit number:\",num)"
   ]
  },
  {
   "cell_type": "code",
   "execution_count": 25,
   "id": "77d06c3f",
   "metadata": {},
   "outputs": [
    {
     "name": "stdout",
     "output_type": "stream",
     "text": [
      "enter the number:-550.2\n",
      "it is 3digit number: 550.2\n"
     ]
    }
   ],
   "source": [
    "num =eval(input(\"enter the number:-\"))\n",
    "if num>=100 and num<=999:\n",
    "    print(\"it is 3digit number:\",num)\n",
    "else:\n",
    "    print(\"it's not 3digit number:\",num)"
   ]
  },
  {
   "cell_type": "code",
   "execution_count": null,
   "id": "60527240",
   "metadata": {},
   "outputs": [],
   "source": []
  },
  {
   "cell_type": "code",
   "execution_count": 26,
   "id": "4c8e75eb",
   "metadata": {},
   "outputs": [
    {
     "data": {
      "text/plain": [
       "22.2"
      ]
     },
     "execution_count": 26,
     "metadata": {},
     "output_type": "execute_result"
    }
   ],
   "source": [
    "22.2"
   ]
  },
  {
   "cell_type": "code",
   "execution_count": 27,
   "id": "b2d4854f",
   "metadata": {},
   "outputs": [
    {
     "name": "stdout",
     "output_type": "stream",
     "text": [
      "enter the number:-22.2\n",
      "it's not 3digit number: 22.2\n"
     ]
    }
   ],
   "source": [
    "num =eval(input(\"enter the number:-\"))\n",
    "if num>=100 and num<=999:\n",
    "    print(\"it is 3digit number:\",num)\n",
    "else:\n",
    "    print(\"it's not 3digit number:\",num)"
   ]
  },
  {
   "cell_type": "code",
   "execution_count": null,
   "id": "f64fb284",
   "metadata": {},
   "outputs": [],
   "source": []
  },
  {
   "cell_type": "code",
   "execution_count": null,
   "id": "d5e04110",
   "metadata": {},
   "outputs": [],
   "source": []
  },
  {
   "cell_type": "code",
   "execution_count": 28,
   "id": "82dbafda",
   "metadata": {},
   "outputs": [
    {
     "name": "stdout",
     "output_type": "stream",
     "text": [
      "enter the number:-555\n",
      "it is 3digit number: 555\n"
     ]
    }
   ],
   "source": [
    "num =eval(input(\"enter the number:-\"))\n",
    "if num>=100 and num<=999:\n",
    "    print(\"it is 3digit number:\",num)\n",
    "else:\n",
    "    print(\"it's not 3digit number:\",num)"
   ]
  },
  {
   "cell_type": "code",
   "execution_count": 29,
   "id": "90f9b339",
   "metadata": {},
   "outputs": [
    {
     "ename": "SyntaxError",
     "evalue": "invalid syntax (3107571659.py, line 5)",
     "output_type": "error",
     "traceback": [
      "\u001b[1;36m  Cell \u001b[1;32mIn[29], line 5\u001b[1;36m\u001b[0m\n\u001b[1;33m    print(\"it's not 3digit number:\",num)ssss\u001b[0m\n\u001b[1;37m                                        ^\u001b[0m\n\u001b[1;31mSyntaxError\u001b[0m\u001b[1;31m:\u001b[0m invalid syntax\n"
     ]
    }
   ],
   "source": [
    "num =eval(input(\"enter the number:-\"))\n",
    "if num>=100 and num<=999:\n",
    "    print(\"it is 3digit number:\",num)\n",
    "else:\n",
    "    print(\"it's not 3digit number:\",num)ssss"
   ]
  },
  {
   "cell_type": "code",
   "execution_count": 30,
   "id": "1145370a",
   "metadata": {},
   "outputs": [
    {
     "name": "stdout",
     "output_type": "stream",
     "text": [
      "enter the number:-585\n",
      "it is 3digit number: 585\n"
     ]
    }
   ],
   "source": [
    "num =eval(input(\"enter the number:-\"))\n",
    "if num>=100 and num<=999:\n",
    "    print(\"it is 3digit number:\",num)\n",
    "else:\n",
    "    print(\"it's not 3digit number:\",num)"
   ]
  },
  {
   "cell_type": "code",
   "execution_count": 31,
   "id": "84794a6c",
   "metadata": {},
   "outputs": [
    {
     "ename": "SyntaxError",
     "evalue": "invalid syntax (3783108098.py, line 1)",
     "output_type": "error",
     "traceback": [
      "\u001b[1;36m  Cell \u001b[1;32mIn[31], line 1\u001b[1;36m\u001b[0m\n\u001b[1;33m    num =eval(input(\"enter the number:\")if num>=100 and num<=999:print(\"it is 3digit number:\",num)else:print(\"it not 3digit number:\",num))\u001b[0m\n\u001b[1;37m                                                                ^\u001b[0m\n\u001b[1;31mSyntaxError\u001b[0m\u001b[1;31m:\u001b[0m invalid syntax\n"
     ]
    }
   ],
   "source": [
    "num =eval(input(\"enter the number:\")if num>=100 and num<=999:print(\"it is 3digit number:\",num)else:print(\"it not 3digit number:\",num))"
   ]
  },
  {
   "cell_type": "code",
   "execution_count": 32,
   "id": "c3a38e62",
   "metadata": {},
   "outputs": [
    {
     "ename": "SyntaxError",
     "evalue": "invalid syntax (443542286.py, line 1)",
     "output_type": "error",
     "traceback": [
      "\u001b[1;36m  Cell \u001b[1;32mIn[32], line 1\u001b[1;36m\u001b[0m\n\u001b[1;33m    num =eval(input('enter the number:-'))if num>=100 and num<=999:print(\"it is 3digit number:\",num)else:print(\"it not 3digit number:\",num)\u001b[0m\n\u001b[1;37m                                                                  ^\u001b[0m\n\u001b[1;31mSyntaxError\u001b[0m\u001b[1;31m:\u001b[0m invalid syntax\n"
     ]
    }
   ],
   "source": [
    "num =eval(input('enter the number:-'))if num>=100 and num<=999:print(\"it is 3digit number:\",num)else:print(\"it not 3digit number:\",num)"
   ]
  },
  {
   "cell_type": "code",
   "execution_count": 33,
   "id": "d0a70eb1",
   "metadata": {},
   "outputs": [
    {
     "ename": "SyntaxError",
     "evalue": "expected 'else' after 'if' expression (305584229.py, line 1)",
     "output_type": "error",
     "traceback": [
      "\u001b[1;36m  Cell \u001b[1;32mIn[33], line 1\u001b[1;36m\u001b[0m\n\u001b[1;33m    print(\"pass\" if int(input(\"enter marks:\")>=35 else \"fail\"))\u001b[0m\n\u001b[1;37m          ^\u001b[0m\n\u001b[1;31mSyntaxError\u001b[0m\u001b[1;31m:\u001b[0m expected 'else' after 'if' expression\n"
     ]
    }
   ],
   "source": [
    "print(\"pass\" if int(input(\"enter marks:\")>=35 else \"fail\"))"
   ]
  },
  {
   "cell_type": "code",
   "execution_count": 34,
   "id": "3a66a656",
   "metadata": {},
   "outputs": [
    {
     "ename": "SyntaxError",
     "evalue": "invalid syntax (1604212429.py, line 1)",
     "output_type": "error",
     "traceback": [
      "\u001b[1;36m  Cell \u001b[1;32mIn[34], line 1\u001b[1;36m\u001b[0m\n\u001b[1;33m    print( if int(input(\"enter marks:\")>=35 \"pass\" else \"fail\"))\u001b[0m\n\u001b[1;37m           ^\u001b[0m\n\u001b[1;31mSyntaxError\u001b[0m\u001b[1;31m:\u001b[0m invalid syntax\n"
     ]
    }
   ],
   "source": [
    "print( if int(input(\"enter marks:\")>=35 \"pass\" else \"fail\"))"
   ]
  },
  {
   "cell_type": "code",
   "execution_count": 37,
   "id": "47c1c8a7",
   "metadata": {},
   "outputs": [
    {
     "ename": "SyntaxError",
     "evalue": "invalid syntax (1223960224.py, line 1)",
     "output_type": "error",
     "traceback": [
      "\u001b[1;36m  Cell \u001b[1;32mIn[37], line 1\u001b[1;36m\u001b[0m\n\u001b[1;33m    print( if int(input(\"enter marks:\")>=35: \"pass\" else \"fail\")\u001b[0m\n\u001b[1;37m           ^\u001b[0m\n\u001b[1;31mSyntaxError\u001b[0m\u001b[1;31m:\u001b[0m invalid syntax\n"
     ]
    }
   ],
   "source": [
    "print( if int(input(\"enter marks:\")>=35: \"pass\" else \"fail\")"
   ]
  },
  {
   "cell_type": "code",
   "execution_count": null,
   "id": "f9d6c589",
   "metadata": {},
   "outputs": [],
   "source": [
    "print(\"pass\" if int(input(\"Enter Marks:\"))>=35 else \"fail\")"
   ]
  },
  {
   "cell_type": "code",
   "execution_count": null,
   "id": "941fd96b",
   "metadata": {},
   "outputs": [],
   "source": [
    "print(\"pass\" if int(input(\"enter the marks:\"))>=35 else \"fail\")"
   ]
  },
  {
   "cell_type": "code",
   "execution_count": null,
   "id": "b0bfc8e8",
   "metadata": {},
   "outputs": [],
   "source": [
    "print(\"pass\" if int(input(\"Enter Marks:\"))>=35 else \"fail\")"
   ]
  },
  {
   "cell_type": "code",
   "execution_count": null,
   "id": "4dfca196",
   "metadata": {},
   "outputs": [],
   "source": [
    "print(\"pass\" if int(input(\"Enter Marks:\"))>=35 else \"fail\")"
   ]
  },
  {
   "cell_type": "code",
   "execution_count": 1,
   "id": "3097f471",
   "metadata": {},
   "outputs": [
    {
     "name": "stdout",
     "output_type": "stream",
     "text": [
      "Enter Marks:38\n",
      "pass\n"
     ]
    }
   ],
   "source": [
    "print(\"pass\" if int(input(\"Enter Marks:\"))>=35 else \"fail\")"
   ]
  },
  {
   "cell_type": "code",
   "execution_count": null,
   "id": "d8cb3659",
   "metadata": {},
   "outputs": [],
   "source": [
    "print(\"pass\" if int(input(\"enter the number:\"))>=35 else \"fail\")"
   ]
  }
 ],
 "metadata": {
  "kernelspec": {
   "display_name": "Python 3 (ipykernel)",
   "language": "python",
   "name": "python3"
  },
  "language_info": {
   "codemirror_mode": {
    "name": "ipython",
    "version": 3
   },
   "file_extension": ".py",
   "mimetype": "text/x-python",
   "name": "python",
   "nbconvert_exporter": "python",
   "pygments_lexer": "ipython3",
   "version": "3.11.4"
  }
 },
 "nbformat": 4,
 "nbformat_minor": 5
}
