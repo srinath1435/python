{
 "cells": [
  {
   "cell_type": "code",
   "execution_count": 1,
   "id": "c8a8d3a4",
   "metadata": {},
   "outputs": [],
   "source": []
  },
  {
   "cell_type": "code",
   "execution_count": null,
   "id": "e868b36e",
   "metadata": {},
   "outputs": [],
   "source": []
  },
  {
   "cell_type": "code",
   "execution_count": null,
   "id": "1602ba84",
   "metadata": {},
   "outputs": [],
   "source": []
  },
  {
   "cell_type": "code",
   "execution_count": 3,
   "id": "b5bdf433",
   "metadata": {},
   "outputs": [
    {
     "name": "stdout",
     "output_type": "stream",
     "text": [
      "Hello World\n"
     ]
    }
   ],
   "source": [
    "def fun():\n",
    "    print(\"Hello World\")\n",
    "    \n",
    "fun()"
   ]
  },
  {
   "cell_type": "code",
   "execution_count": 4,
   "id": "0567b9a7",
   "metadata": {},
   "outputs": [
    {
     "data": {
      "text/plain": [
       "3"
      ]
     },
     "execution_count": 4,
     "metadata": {},
     "output_type": "execute_result"
    }
   ],
   "source": [
    "def fun(a,b):\n",
    "    return a+b\n",
    "fun(1,2)"
   ]
  },
  {
   "cell_type": "code",
   "execution_count": 5,
   "id": "c326fed2",
   "metadata": {},
   "outputs": [
    {
     "name": "stdout",
     "output_type": "stream",
     "text": [
      "this are the perameters values 1 2\n"
     ]
    }
   ],
   "source": [
    "def fun(a,b):\n",
    "    print(\"this are the perameters values\",a,b)\n",
    "fun(1,2)"
   ]
  },
  {
   "cell_type": "code",
   "execution_count": 8,
   "id": "28f64e18",
   "metadata": {},
   "outputs": [
    {
     "name": "stdout",
     "output_type": "stream",
     "text": [
      "this are the perameters values (1, 2, 3)\n"
     ]
    }
   ],
   "source": [
    "def fun(*a):\n",
    "    print(\"this are the perameters values\",a)\n",
    "fun(1,2,3)"
   ]
  },
  {
   "cell_type": "code",
   "execution_count": 9,
   "id": "dc77fdc8",
   "metadata": {},
   "outputs": [
    {
     "name": "stdout",
     "output_type": "stream",
     "text": [
      "this are the perameters values (1, 'srinath', 45000.55, True)\n"
     ]
    }
   ],
   "source": [
    "def fun(*a):\n",
    "    print(\"this are the perameters values\",a)\n",
    "fun(1,\"srinath\",45000.55,True)"
   ]
  },
  {
   "cell_type": "code",
   "execution_count": 10,
   "id": "fa52f2ff",
   "metadata": {},
   "outputs": [
    {
     "name": "stdout",
     "output_type": "stream",
     "text": [
      "this are the perameters values {'eid': 101, 'ename': 'srinath'}\n"
     ]
    }
   ],
   "source": [
    "def fun(**a):\n",
    "    print(\"this are the perameters values\",a)\n",
    "fun(eid=101,ename=\"srinath\")"
   ]
  },
  {
   "cell_type": "code",
   "execution_count": null,
   "id": "cc81e8c0",
   "metadata": {},
   "outputs": [],
   "source": []
  }
 ],
 "metadata": {
  "kernelspec": {
   "display_name": "Python 3 (ipykernel)",
   "language": "python",
   "name": "python3"
  },
  "language_info": {
   "codemirror_mode": {
    "name": "ipython",
    "version": 3
   },
   "file_extension": ".py",
   "mimetype": "text/x-python",
   "name": "python",
   "nbconvert_exporter": "python",
   "pygments_lexer": "ipython3",
   "version": "3.11.4"
  }
 },
 "nbformat": 4,
 "nbformat_minor": 5
}
