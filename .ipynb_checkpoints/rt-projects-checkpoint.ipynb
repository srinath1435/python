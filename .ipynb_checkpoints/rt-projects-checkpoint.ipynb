{
 "cells": [
  {
   "cell_type": "code",
   "execution_count": 2,
   "id": "00c720b7",
   "metadata": {},
   "outputs": [
    {
     "name": "stdout",
     "output_type": "stream",
     "text": [
      " enter the no. of rows:5\n",
      "0\n",
      "1\n",
      "2\n",
      "3\n",
      "4\n"
     ]
    }
   ],
   "source": [
    "num = int(input(\" enter the no. of rows:\"))\n",
    "for i in range(n):\n",
    "    print(i)"
   ]
  },
  {
   "cell_type": "code",
   "execution_count": 3,
   "id": "a7e3d404",
   "metadata": {},
   "outputs": [
    {
     "name": "stdout",
     "output_type": "stream",
     "text": [
      " enter the no. of rows:5\n",
      "0\n",
      "1\n",
      "2\n",
      "3\n",
      "4\n",
      "5\n"
     ]
    }
   ],
   "source": [
    "num = int(input(\" enter the no. of rows:\"))\n",
    "for i in range(num+1):\n",
    "    print(i)"
   ]
  },
  {
   "cell_type": "code",
   "execution_count": 5,
   "id": "494cec1a",
   "metadata": {},
   "outputs": [
    {
     "name": "stdout",
     "output_type": "stream",
     "text": [
      " enter the no. of rows:5\n",
      "01234"
     ]
    }
   ],
   "source": [
    "num = int(input(\" enter the no. of rows:\"))\n",
    "for i in range(num):\n",
    "    print(i, end=\"\")"
   ]
  },
  {
   "cell_type": "code",
   "execution_count": 6,
   "id": "0a244d5e",
   "metadata": {},
   "outputs": [
    {
     "name": "stdout",
     "output_type": "stream",
     "text": [
      " enter the no. of rows:5\n",
      "0 1 2 3 4 "
     ]
    }
   ],
   "source": [
    "num = int(input(\" enter the no. of rows:\"))\n",
    "for i in range(num):\n",
    "    print(i,end=\" \")"
   ]
  },
  {
   "cell_type": "code",
   "execution_count": 7,
   "id": "64203ad9",
   "metadata": {},
   "outputs": [
    {
     "name": "stdout",
     "output_type": "stream",
     "text": [
      " enter the no. of rows:6\n",
      "0 1 2 3 4 "
     ]
    }
   ],
   "source": [
    "num = int(input(\" enter the no. of rows:\"))\n",
    "for i in range(n):\n",
    "    print(i, end=\" \")"
   ]
  },
  {
   "cell_type": "code",
   "execution_count": 8,
   "id": "4c3938a7",
   "metadata": {},
   "outputs": [
    {
     "name": "stdout",
     "output_type": "stream",
     "text": [
      "6\n",
      "0 1 2 3 4 5 "
     ]
    }
   ],
   "source": [
    "num = int(input())\n",
    "for i in range(num):\n",
    "    print(i,end=\" \")"
   ]
  },
  {
   "cell_type": "code",
   "execution_count": 9,
   "id": "2c954e8f",
   "metadata": {},
   "outputs": [
    {
     "name": "stdout",
     "output_type": "stream",
     "text": [
      " enter the no. of rows:5\n",
      "\n",
      "*\n",
      "**\n",
      "***\n",
      "****\n"
     ]
    }
   ],
   "source": [
    "num = int(input(\" enter the no. of rows:\"))\n",
    "for i in range(num):\n",
    "    print(\"*\"*i)"
   ]
  },
  {
   "cell_type": "code",
   "execution_count": 1,
   "id": "29da343d",
   "metadata": {},
   "outputs": [
    {
     "name": "stdout",
     "output_type": "stream",
     "text": [
      " enter the no. of rows:5\n",
      "*****\n",
      "*****\n",
      "*****\n",
      "*****\n",
      "*****\n"
     ]
    }
   ],
   "source": [
    "num = int(input(\" enter the no. of rows:\"))\n",
    "for i in range(num):\n",
    "    print(\"*\"*num)"
   ]
  },
  {
   "cell_type": "code",
   "execution_count": 2,
   "id": "83348f73",
   "metadata": {},
   "outputs": [
    {
     "name": "stdout",
     "output_type": "stream",
     "text": [
      " enter the no. of rows:5\n",
      "\n",
      "*\n",
      "**\n",
      "***\n",
      "****\n"
     ]
    }
   ],
   "source": [
    "num = int(input(\" enter the no. of rows:\"))\n",
    "for i in range(num):\n",
    "    print(\"*\"*i)"
   ]
  },
  {
   "cell_type": "code",
   "execution_count": 4,
   "id": "0caaf315",
   "metadata": {},
   "outputs": [
    {
     "name": "stdout",
     "output_type": "stream",
     "text": [
      "enter the no. of number3\n",
      "***\n",
      "***\n",
      "***\n"
     ]
    }
   ],
   "source": [
    "n = int(input(\"enter the no. of number\"))\n",
    "for i in range(n):\n",
    "    print(\"*\"*n)"
   ]
  },
  {
   "cell_type": "code",
   "execution_count": 6,
   "id": "00fd018e",
   "metadata": {},
   "outputs": [
    {
     "name": "stdout",
     "output_type": "stream",
     "text": [
      "enter the no. of number3\n",
      "333\n",
      "333\n",
      "333\n"
     ]
    }
   ],
   "source": [
    "n = int(input(\"enter the no. of number\"))\n",
    "for i in range (n):\n",
    "    print((str(n)+'')*n)"
   ]
  },
  {
   "cell_type": "code",
   "execution_count": 7,
   "id": "27ce732d",
   "metadata": {},
   "outputs": [
    {
     "name": "stdout",
     "output_type": "stream",
     "text": [
      "enter the no. of number333\n"
     ]
    },
    {
     "ename": "TypeError",
     "evalue": "'str' object cannot be interpreted as an integer",
     "output_type": "error",
     "traceback": [
      "\u001b[1;31m---------------------------------------------------------------------------\u001b[0m",
      "\u001b[1;31mTypeError\u001b[0m                                 Traceback (most recent call last)",
      "Cell \u001b[1;32mIn[7], line 2\u001b[0m\n\u001b[0;32m      1\u001b[0m n \u001b[38;5;241m=\u001b[39m\u001b[38;5;28minput\u001b[39m(\u001b[38;5;124m\"\u001b[39m\u001b[38;5;124menter the no. of number\u001b[39m\u001b[38;5;124m\"\u001b[39m)\n\u001b[1;32m----> 2\u001b[0m \u001b[38;5;28;01mfor\u001b[39;00m i \u001b[38;5;129;01min\u001b[39;00m \u001b[38;5;28mrange\u001b[39m (n):\n\u001b[0;32m      3\u001b[0m     \u001b[38;5;28mprint\u001b[39m((\u001b[38;5;28mstr\u001b[39m(n)\u001b[38;5;241m+\u001b[39m\u001b[38;5;124m'\u001b[39m\u001b[38;5;124m'\u001b[39m)\u001b[38;5;241m*\u001b[39mn)\n",
      "\u001b[1;31mTypeError\u001b[0m: 'str' object cannot be interpreted as an integer"
     ]
    }
   ],
   "source": [
    "n =input(\"enter the no. of number\")\n",
    "for i in range (n):\n",
    "    print((str(n)+'')*n)"
   ]
  },
  {
   "cell_type": "code",
   "execution_count": 10,
   "id": "dc6f29d6",
   "metadata": {},
   "outputs": [
    {
     "name": "stdout",
     "output_type": "stream",
     "text": [
      "enter the no. of number4\n",
      "4444\n",
      "4444\n",
      "4444\n",
      "4444\n"
     ]
    }
   ],
   "source": [
    "n = int(input(\"enter the no. of number\"))\n",
    "for i in range (n):\n",
    "    print((str(n)+'')*n)"
   ]
  },
  {
   "cell_type": "code",
   "execution_count": 11,
   "id": "a2168610",
   "metadata": {},
   "outputs": [
    {
     "name": "stdout",
     "output_type": "stream",
     "text": [
      "enter the no. of number4\n",
      "4444\n",
      "4444\n",
      "4444\n",
      "4444\n"
     ]
    }
   ],
   "source": [
    "n = int(input(\"enter the no. of number\"))\n",
    "for i in range (n):\n",
    "    print((str(n)+)*n)"
   ]
  },
  {
   "cell_type": "code",
   "execution_count": 15,
   "id": "99a1550b",
   "metadata": {},
   "outputs": [
    {
     "name": "stdout",
     "output_type": "stream",
     "text": [
      "enter the no. of number4\n",
      "4444\n",
      "4444\n",
      "4444\n",
      "4444\n"
     ]
    }
   ],
   "source": [
    "n = int(input(\"enter the no. of number\"))\n",
    "for i in range (n):\n",
    "    print((str(n))*n)"
   ]
  },
  {
   "cell_type": "code",
   "execution_count": 17,
   "id": "18002541",
   "metadata": {},
   "outputs": [
    {
     "name": "stdout",
     "output_type": "stream",
     "text": [
      "enter the no. of number4\n",
      "444\n",
      "444\n",
      "444\n"
     ]
    }
   ],
   "source": [
    "n = int(input(\"enter the no. of number\"))\n",
    "for i in range (n-1):\n",
    "    print((str(n)+'')*3)"
   ]
  },
  {
   "cell_type": "code",
   "execution_count": 18,
   "id": "46550074",
   "metadata": {},
   "outputs": [
    {
     "name": "stdout",
     "output_type": "stream",
     "text": [
      "enter the no. of number4\n",
      "4444\n",
      "4444\n",
      "4444\n"
     ]
    }
   ],
   "source": [
    "n = int(input(\"enter the no. of number\"))\n",
    "for i in range (n-1):\n",
    "    print((str(n)+'')*n)"
   ]
  },
  {
   "cell_type": "code",
   "execution_count": 19,
   "id": "18c464ee",
   "metadata": {},
   "outputs": [
    {
     "name": "stdout",
     "output_type": "stream",
     "text": [
      "enter the no. of number3\n",
      "111\n",
      "222\n",
      "333\n"
     ]
    }
   ],
   "source": [
    "n = int(input(\"enter the no. of number\"))\n",
    "for i in range(n):\n",
    "    print((str(i+1))*n)"
   ]
  },
  {
   "cell_type": "code",
   "execution_count": 20,
   "id": "4bef0635",
   "metadata": {},
   "outputs": [
    {
     "name": "stdout",
     "output_type": "stream",
     "text": [
      "enter the no. of number4\n",
      "1111\n",
      "2222\n",
      "3333\n",
      "4444\n"
     ]
    }
   ],
   "source": [
    "n = int(input(\"enter the no. of number\"))\n",
    "for i in range(n):\n",
    "    print(str(i+1)*n)"
   ]
  },
  {
   "cell_type": "code",
   "execution_count": 21,
   "id": "ac63e8cb",
   "metadata": {},
   "outputs": [
    {
     "name": "stdout",
     "output_type": "stream",
     "text": [
      "enter the no. of number4\n",
      "\n",
      "2\n",
      "33\n",
      "444\n"
     ]
    }
   ],
   "source": [
    "n = int(input(\"enter the no. of number\"))\n",
    "for i in range(n):\n",
    "    print((str(i+1))*i)"
   ]
  },
  {
   "cell_type": "code",
   "execution_count": 22,
   "id": "b79c6c48",
   "metadata": {},
   "outputs": [
    {
     "name": "stdout",
     "output_type": "stream",
     "text": [
      "enter the no. of number4\n",
      "0000\n",
      "1111\n",
      "2222\n",
      "3333\n"
     ]
    }
   ],
   "source": [
    "n = int(input(\"enter the no. of number\"))\n",
    "for i in range(n):\n",
    "    print((str(i))*n)"
   ]
  },
  {
   "cell_type": "code",
   "execution_count": 23,
   "id": "f89098b5",
   "metadata": {},
   "outputs": [
    {
     "name": "stdout",
     "output_type": "stream",
     "text": [
      "enter the no. of number4\n",
      "\n",
      "1\n",
      "22\n",
      "333\n"
     ]
    }
   ],
   "source": [
    "n = int(input(\"enter the no. of number\"))\n",
    "for i in range(n):\n",
    "    print((str(i))*i)"
   ]
  },
  {
   "cell_type": "code",
   "execution_count": 24,
   "id": "62a9e8e5",
   "metadata": {},
   "outputs": [
    {
     "name": "stdout",
     "output_type": "stream",
     "text": [
      "enter the no. of number4\n",
      "1\n",
      "22\n",
      "333\n"
     ]
    }
   ],
   "source": [
    "n = int(input(\"enter the no. of number\"))\n",
    "for i in range(1,n):\n",
    "    print((str(i))*i)"
   ]
  },
  {
   "cell_type": "code",
   "execution_count": 25,
   "id": "2601e18d",
   "metadata": {},
   "outputs": [
    {
     "name": "stdout",
     "output_type": "stream",
     "text": [
      "enter the no. of number4\n",
      "0000\n",
      "1111\n",
      "2222\n",
      "3333\n"
     ]
    }
   ],
   "source": [
    "n = int(input(\"enter the no. of number\"))\n",
    "for i in range(n):\n",
    "    print((str(i))*n)"
   ]
  },
  {
   "cell_type": "code",
   "execution_count": 26,
   "id": "4f1a8220",
   "metadata": {},
   "outputs": [
    {
     "name": "stdout",
     "output_type": "stream",
     "text": [
      "enter the no. of number4\n",
      "1111\n",
      "2222\n",
      "3333\n",
      "4444\n"
     ]
    }
   ],
   "source": [
    "n = int(input(\"enter the no. of number\"))\n",
    "for i in range(n):\n",
    "    print((str(i+1))*n)"
   ]
  },
  {
   "cell_type": "code",
   "execution_count": 30,
   "id": "a992b17f",
   "metadata": {},
   "outputs": [
    {
     "name": "stdout",
     "output_type": "stream",
     "text": [
      "enter the no. of number4\n",
      "0 0 0 0 \n",
      "1 1 1 1 \n",
      "2 2 2 2 \n",
      "3 3 3 3 \n"
     ]
    }
   ],
   "source": [
    "n = int(input(\"enter the no. of number\"))\n",
    "for i in range(n):\n",
    "    print((str(i)+' ') *n)"
   ]
  },
  {
   "cell_type": "code",
   "execution_count": 31,
   "id": "71c1141c",
   "metadata": {},
   "outputs": [
    {
     "name": "stdout",
     "output_type": "stream",
     "text": [
      "enter the number of rows3\n",
      "A A A \n",
      "A A A \n",
      "A A A \n"
     ]
    }
   ],
   "source": [
    "n = int(input(\"enter the number of rows\"))\n",
    "for i in range(n):\n",
    "    print('A '*n)"
   ]
  },
  {
   "cell_type": "code",
   "execution_count": 34,
   "id": "b06b6da2",
   "metadata": {},
   "outputs": [
    {
     "name": "stdout",
     "output_type": "stream",
     "text": [
      "enter the number of row4\n",
      "A \n",
      "B B \n",
      "C C C \n",
      "D D D D \n"
     ]
    }
   ],
   "source": [
    "n = int(input(\"enter the number of row\"))\n",
    "for i in range(n):\n",
    "    print((chr(65+i)+' ')*(i+1))"
   ]
  },
  {
   "cell_type": "code",
   "execution_count": 35,
   "id": "e2ee679c",
   "metadata": {},
   "outputs": [
    {
     "name": "stdout",
     "output_type": "stream",
     "text": [
      "enter the number of row5\n",
      "A \n",
      "B B \n",
      "C C C \n",
      "D D D D \n",
      "E E E E E \n"
     ]
    }
   ],
   "source": [
    "n = int(input(\"enter the number of row\"))\n",
    "for i in range(n):\n",
    "    print((chr(65+i)+' ')*(i+1))"
   ]
  },
  {
   "cell_type": "code",
   "execution_count": 36,
   "id": "ad4fdaca",
   "metadata": {},
   "outputs": [
    {
     "name": "stdout",
     "output_type": "stream",
     "text": [
      "enter the no.of rows4\n",
      "* * * * \n",
      "* * * \n",
      "* * \n",
      "* \n"
     ]
    }
   ],
   "source": [
    "n = int(input(\"enter the no.of rows\"))\n",
    "for i in range(n):\n",
    "    print(\"* \"*(n-i))"
   ]
  },
  {
   "cell_type": "code",
   "execution_count": 39,
   "id": "188dbad1",
   "metadata": {},
   "outputs": [
    {
     "name": "stdout",
     "output_type": "stream",
     "text": [
      "enter the no.of rows4\n",
      "1 2 3 4 \n",
      "1 2 3 \n",
      "1 2 \n",
      "1 \n"
     ]
    }
   ],
   "source": [
    "# reverse right angle triangle\n",
    "n = int(input(\"enter the no.of rows\"))\n",
    "for i in range(n):\n",
    "    for j in range(n-i):\n",
    "        print(j+1,end=' ')\n",
    "    print()"
   ]
  },
  {
   "cell_type": "code",
   "execution_count": 40,
   "id": "253871ba",
   "metadata": {},
   "outputs": [
    {
     "name": "stdout",
     "output_type": "stream",
     "text": [
      "enter the no.of rows7\n",
      "1 2 3 4 5 6 7 \n",
      "1 2 3 4 5 6 \n",
      "1 2 3 4 5 \n",
      "1 2 3 4 \n",
      "1 2 3 \n",
      "1 2 \n",
      "1 \n"
     ]
    }
   ],
   "source": [
    "# reverse right angle triangle\n",
    "n = int(input(\"enter the no.of rows\"))\n",
    "for i in range(n):\n",
    "    for j in range(n-i):\n",
    "        print(j+1,end=' ')\n",
    "    print()"
   ]
  },
  {
   "cell_type": "code",
   "execution_count": 45,
   "id": "f29a31f2",
   "metadata": {},
   "outputs": [
    {
     "name": "stdout",
     "output_type": "stream",
     "text": [
      "enter the number of rows:4\n",
      "   1 \n",
      "  2 2 \n",
      " 3 3 3 \n",
      "4 4 4 4 \n"
     ]
    }
   ],
   "source": [
    "n = int(input(\"enter the number of rows:\"))\n",
    "for i in range(n):\n",
    "    print(' '*(n-i-1)+(str(i+1)+' ')*(i+1))"
   ]
  },
  {
   "cell_type": "code",
   "execution_count": 46,
   "id": "f5e69eca",
   "metadata": {},
   "outputs": [
    {
     "name": "stdout",
     "output_type": "stream",
     "text": [
      "enter the number of rows:4\n",
      "   1 \n",
      "  2 2 \n",
      " 3 3 3 \n",
      "4 4 4 4 \n"
     ]
    }
   ],
   "source": [
    "n = int(input(\"enter the number of rows:\"))\n",
    "for i in range(n):\n",
    "    print(' '*(n-i-1)+(str(i+1)+' ')*(i+1))"
   ]
  },
  {
   "cell_type": "code",
   "execution_count": 48,
   "id": "80e2786a",
   "metadata": {},
   "outputs": [
    {
     "name": "stdout",
     "output_type": "stream",
     "text": [
      "enter the number of rows:4\n",
      "    *\n",
      "   *\n",
      "  *\n",
      " *\n"
     ]
    }
   ],
   "source": [
    "n = int(input(\"enter the number of rows:\"))\n",
    "for i in range(n):\n",
    "    print(' '*(n-i-1),\"*\")"
   ]
  },
  {
   "cell_type": "code",
   "execution_count": 49,
   "id": "42e4f39f",
   "metadata": {},
   "outputs": [
    {
     "name": "stdout",
     "output_type": "stream",
     "text": [
      "enter the number of rows:4\n",
      "   1  *\n",
      "  2  *\n",
      " 3  *\n",
      "4  *\n"
     ]
    }
   ],
   "source": [
    "n = int(input(\"enter the number of rows:\"))\n",
    "for i in range(n):\n",
    "    print(' '*(n-i-1)+(str(i+1)+' '),\"*\")"
   ]
  },
  {
   "cell_type": "code",
   "execution_count": 50,
   "id": "7468468f",
   "metadata": {},
   "outputs": [
    {
     "name": "stdout",
     "output_type": "stream",
     "text": [
      "enter the number of rows:4\n",
      "*    \n",
      "*   \n",
      "*  \n",
      "* \n"
     ]
    }
   ],
   "source": [
    "n = int(input(\"enter the number of rows:\"))\n",
    "for i in range(n):\n",
    "    print(\"*\",' '*(n-i-1))"
   ]
  },
  {
   "cell_type": "code",
   "execution_count": 51,
   "id": "06aa69a1",
   "metadata": {},
   "outputs": [
    {
     "name": "stdout",
     "output_type": "stream",
     "text": [
      "enter the number of rows:4\n",
      "    *\n",
      "     *\n",
      "    *\n",
      " *\n"
     ]
    }
   ],
   "source": [
    "n = int(input(\"enter the number of rows:\"))\n",
    "for i in range(n):\n",
    "    print(' '*(n-i-1)*(i+1),\"*\")"
   ]
  },
  {
   "cell_type": "code",
   "execution_count": 54,
   "id": "3098aed3",
   "metadata": {},
   "outputs": [
    {
     "name": "stdout",
     "output_type": "stream",
     "text": [
      "enter the number of rows:4\n",
      "    * 1\n",
      "   * 2\n",
      "  * 3\n",
      " * 4\n"
     ]
    }
   ],
   "source": [
    "n = int(input(\"enter the number of rows:\"))\n",
    "for i in range(n):\n",
    "    print(' '*(n-i-1),\"*\",(i+1))"
   ]
  },
  {
   "cell_type": "code",
   "execution_count": 56,
   "id": "33c9ca81",
   "metadata": {},
   "outputs": [
    {
     "name": "stdout",
     "output_type": "stream",
     "text": [
      "enter the number of rows:4\n",
      "*\n",
      "*\n",
      "*\n",
      "*\n"
     ]
    }
   ],
   "source": [
    "n = int(input(\"enter the number of rows:\"))\n",
    "for i in range(n):\n",
    "    print(\"*\")"
   ]
  },
  {
   "cell_type": "code",
   "execution_count": 58,
   "id": "d5f867bd",
   "metadata": {},
   "outputs": [
    {
     "name": "stdout",
     "output_type": "stream",
     "text": [
      "enter the number of rows:4\n",
      "   D \n",
      "  C C \n",
      " B B B \n",
      "A A A A \n"
     ]
    }
   ],
   "source": [
    "n = int(input(\"enter the number of rows:\"))\n",
    "for i in range(n):\n",
    "    print(' '*(n-i-1),end='')\n",
    "    for j in range(i+1):\n",
    "          print(chr(64+n-i),end=' ')\n",
    "    print()"
   ]
  },
  {
   "cell_type": "code",
   "execution_count": 61,
   "id": "69185eae",
   "metadata": {},
   "outputs": [
    {
     "name": "stdout",
     "output_type": "stream",
     "text": [
      "enter the number of rows:4\n",
      "   D \n",
      "  D C \n",
      " D C B \n",
      "D C B A \n"
     ]
    }
   ],
   "source": [
    "n = int(input(\"enter the number of rows:\"))\n",
    "for i in range(n):\n",
    "    print(' '*(n-i-1),end='')\n",
    "    for j in range(i+1):\n",
    "          print(chr(64+n-j),end=' ')\n",
    "    print()"
   ]
  },
  {
   "cell_type": "code",
   "execution_count": 63,
   "id": "62cc6918",
   "metadata": {},
   "outputs": [
    {
     "name": "stdout",
     "output_type": "stream",
     "text": [
      "enter the number of rows:4\n",
      "   D \n",
      "  D C \n",
      " D C B \n",
      "D C B A \n"
     ]
    }
   ],
   "source": [
    "n = int(input(\"enter the number of rows:\"))\n",
    "for i in range(n):\n",
    "    print(' '*(n-i-1),end='')\n",
    "    for j in range(i+1):\n",
    "          print(chr(68-j),end=' ')\n",
    "    print()"
   ]
  },
  {
   "cell_type": "code",
   "execution_count": 67,
   "id": "ae752ce5",
   "metadata": {},
   "outputs": [
    {
     "name": "stdout",
     "output_type": "stream",
     "text": [
      "enter the number of rows:4\n",
      "   * \n",
      "  * * \n",
      " * * * \n",
      "* * * * \n"
     ]
    }
   ],
   "source": [
    "n = int(input(\"enter the number of rows:\"))\n",
    "for i in range(n):\n",
    "    print(' '*(n-i-1),end='')\n",
    "    for j in range(i+1):\n",
    "        print(\"*\",end=\" \")\n",
    "    print()\n",
    "    "
   ]
  },
  {
   "cell_type": "code",
   "execution_count": 74,
   "id": "986bff69",
   "metadata": {},
   "outputs": [
    {
     "name": "stdout",
     "output_type": "stream",
     "text": [
      "enter the number of rows:4\n",
      "   * \n",
      "  * * \n",
      " * * * \n",
      "* * * * \n"
     ]
    }
   ],
   "source": [
    "n = int(input(\"enter the number of rows:\"))\n",
    "for i in range(n):\n",
    "    print(' '*(n-i-1),end='')\n",
    "    for j in range(i+1):\n",
    "        print(\"*\",end=\" \")\n",
    "    print()\n",
    "    "
   ]
  },
  {
   "cell_type": "code",
   "execution_count": 3,
   "id": "e8bef54d",
   "metadata": {},
   "outputs": [
    {
     "name": "stdout",
     "output_type": "stream",
     "text": [
      "enter the no. of rows:4\n",
      "A \n",
      "A B \n",
      "A B C \n",
      "A B C D \n"
     ]
    }
   ],
   "source": [
    "# right half diamand\n",
    "n = int(input(\"enter the no. of rows:\"))\n",
    "for i in range(n):\n",
    "    for j in range(i+1):\n",
    "        print(chr(65+j),end=\" \")\n",
    "    print()"
   ]
  },
  {
   "cell_type": "code",
   "execution_count": 4,
   "id": "601ae406",
   "metadata": {},
   "outputs": [
    {
     "name": "stdout",
     "output_type": "stream",
     "text": [
      "enter the no. of rows:4\n",
      "A \n",
      "A B \n",
      "A B C \n",
      "A B C D \n",
      "A B C \n",
      "A B \n",
      "A \n"
     ]
    }
   ],
   "source": [
    "# right half diamand\n",
    "n = int(input(\"enter the no. of rows:\"))\n",
    "for i in range(n):\n",
    "    for j in range(i+1):\n",
    "        print(chr(65+j),end=\" \")\n",
    "    print()\n",
    "for i in range(n-1):\n",
    "    for j in range(n-i-1):\n",
    "        print(chr(65+j),end=\" \")\n",
    "    print()"
   ]
  },
  {
   "cell_type": "code",
   "execution_count": 6,
   "id": "442d9480",
   "metadata": {},
   "outputs": [
    {
     "name": "stdout",
     "output_type": "stream",
     "text": [
      "enter the no. of rows:8\n",
      "A \n",
      "A B \n",
      "A B C \n",
      "A B C D \n",
      "A B C D E \n",
      "A B C D E F \n",
      "A B C D E F G \n",
      "A B C D E F G H \n",
      "A B C D E F G \n",
      "A B C D E F \n",
      "A B C D E \n",
      "A B C D \n",
      "A B C \n",
      "A B \n",
      "A \n"
     ]
    }
   ],
   "source": [
    "# right half diamand\n",
    "n = int(input(\"enter the no. of rows:\"))\n",
    "for i in range(n):\n",
    "    for j in range(i+1):\n",
    "        print(chr(65+j),end=\" \")\n",
    "    print()\n",
    "for i in range(n-1):\n",
    "    for j in range(n-i-1):\n",
    "        print(chr(65+j),end=\" \")\n",
    "    print()"
   ]
  },
  {
   "cell_type": "code",
   "execution_count": 1,
   "id": "25fba3c2",
   "metadata": {},
   "outputs": [
    {
     "name": "stdout",
     "output_type": "stream",
     "text": [
      "enter the no. of rows:5\n",
      "A \n",
      "A B \n",
      "A B C \n",
      "A B C D \n",
      "A B C D E \n",
      "A B C D \n",
      "A B C \n",
      "A B \n",
      "A \n"
     ]
    }
   ],
   "source": [
    "# right half diamand\n",
    "n = int(input(\"enter the no. of rows:\"))\n",
    "for i in range(n):\n",
    "    for j in range(i+1):\n",
    "        print(chr(65+j),end=\" \")\n",
    "    print()\n",
    "for i in range(n-1):\n",
    "    for j in range(n-i-1):\n",
    "        print(chr(65+j),end=\" \")\n",
    "    print()"
   ]
  },
  {
   "cell_type": "code",
   "execution_count": 2,
   "id": "c8d2e6d3",
   "metadata": {},
   "outputs": [
    {
     "name": "stdout",
     "output_type": "stream",
     "text": [
      "enter the no. of rows:10\n",
      "A \n",
      "A B \n",
      "A B C \n",
      "A B C D \n",
      "A B C D E \n",
      "A B C D E F \n",
      "A B C D E F G \n",
      "A B C D E F G H \n",
      "A B C D E F G H I \n",
      "A B C D E F G H I J \n",
      "A B C D E F G H I \n",
      "A B C D E F G H \n",
      "A B C D E F G \n",
      "A B C D E F \n",
      "A B C D E \n",
      "A B C D \n",
      "A B C \n",
      "A B \n",
      "A \n"
     ]
    }
   ],
   "source": [
    "# right half diamand\n",
    "n = int(input(\"enter the no. of rows:\"))\n",
    "for i in range(n):\n",
    "    for j in range(i+1):\n",
    "        print(chr(65+j),end=\" \")\n",
    "    print()\n",
    "for i in range(n-1):\n",
    "    for j in range(n-i-1):\n",
    "        print(chr(65+j),end=\" \")\n",
    "    print()"
   ]
  },
  {
   "cell_type": "code",
   "execution_count": 3,
   "id": "e1dc6772",
   "metadata": {},
   "outputs": [
    {
     "name": "stdout",
     "output_type": "stream",
     "text": [
      "enter the no. of rows:3\n",
      "A \n",
      "A B \n",
      "A B C \n",
      "A B \n",
      "A \n"
     ]
    }
   ],
   "source": [
    "# right half diamand\n",
    "n = int(input(\"enter the no. of rows:\"))\n",
    "for i in range(n):\n",
    "    for j in range(i+1):\n",
    "        print(chr(65+j),end=\" \")\n",
    "    print()\n",
    "for i in range(n-1):\n",
    "    for j in range(n-i-1):\n",
    "        print(chr(65+j),end=\" \")\n",
    "    print()"
   ]
  },
  {
   "cell_type": "code",
   "execution_count": 6,
   "id": "0235c8de",
   "metadata": {},
   "outputs": [
    {
     "name": "stdout",
     "output_type": "stream",
     "text": [
      "enter the no. of rows:5\n",
      "4 4 4 4 \n",
      "5 5 5 5 \n",
      "6 6 6 6 \n",
      "7 7 7 7 \n",
      "8 8 8 8 \n"
     ]
    }
   ],
   "source": [
    "# right half diamand\n",
    "n = int(input(\"enter the no. of rows:\"))\n",
    "for i in range(n):\n",
    "    for j in range(n-1):\n",
    "        print(i+4,end=\" \")\n",
    "    print()"
   ]
  },
  {
   "cell_type": "code",
   "execution_count": 10,
   "id": "0c2dee74",
   "metadata": {},
   "outputs": [
    {
     "name": "stdout",
     "output_type": "stream",
     "text": [
      "enter the no. of rows:4\n",
      "A B C D \n",
      " A B C \n",
      "  A B \n",
      "   A \n"
     ]
    }
   ],
   "source": [
    "n = int(input(\"enter the no. of rows:\"))\n",
    "for i in range(n):\n",
    "    print(' '*i,end='')\n",
    "    for j in range(n-i):\n",
    "        print(chr(65+j),end=\" \")\n",
    "    print()"
   ]
  },
  {
   "cell_type": "code",
   "execution_count": 11,
   "id": "0f229e69",
   "metadata": {},
   "outputs": [
    {
     "name": "stdout",
     "output_type": "stream",
     "text": [
      "enter the no. of rows:4\n",
      "    * \n",
      "   * * \n",
      "  * * * \n",
      " * * * * \n"
     ]
    }
   ],
   "source": [
    "n = int(input(\"enter the no. of rows:\"))\n",
    "for i in range(n):\n",
    "    print(' '*(n-i)+\"* \"*(i+1))"
   ]
  },
  {
   "cell_type": "code",
   "execution_count": 14,
   "id": "d417c2a0",
   "metadata": {},
   "outputs": [
    {
     "name": "stdout",
     "output_type": "stream",
     "text": [
      "enter the no. of rows:4\n",
      "   * \n",
      "  * * \n",
      " * * * \n",
      "* * * * \n"
     ]
    }
   ],
   "source": [
    "n = int(input(\"enter the no. of rows:\"))\n",
    "for i in range(n):\n",
    "    print(' '*(n-i-1)+\"* \"*(i+1))"
   ]
  },
  {
   "cell_type": "code",
   "execution_count": 15,
   "id": "b52fcd39",
   "metadata": {},
   "outputs": [
    {
     "name": "stdout",
     "output_type": "stream",
     "text": [
      "enter the no. of rows:4\n",
      "   * \n",
      "  * * \n",
      " * * * \n",
      "* * * * \n",
      " * * * \n",
      "  * * \n",
      "   * \n"
     ]
    }
   ],
   "source": [
    "n = int(input(\"enter the no. of rows:\"))\n",
    "for i in range(n):\n",
    "    print(' '*(n-i-1)+\"* \"*(i+1))\n",
    "for i in range(n-1):\n",
    "    print(' '*(i+1)+\"* \"*(n-i-1))"
   ]
  },
  {
   "cell_type": "code",
   "execution_count": null,
   "id": "a0300182",
   "metadata": {},
   "outputs": [],
   "source": []
  }
 ],
 "metadata": {
  "kernelspec": {
   "display_name": "Python 3 (ipykernel)",
   "language": "python",
   "name": "python3"
  },
  "language_info": {
   "codemirror_mode": {
    "name": "ipython",
    "version": 3
   },
   "file_extension": ".py",
   "mimetype": "text/x-python",
   "name": "python",
   "nbconvert_exporter": "python",
   "pygments_lexer": "ipython3",
   "version": "3.11.4"
  }
 },
 "nbformat": 4,
 "nbformat_minor": 5
}
