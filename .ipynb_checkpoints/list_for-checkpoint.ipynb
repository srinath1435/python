{
 "cells": [
  {
   "cell_type": "code",
   "execution_count": 2,
   "id": "9c3c723f",
   "metadata": {},
   "outputs": [
    {
     "name": "stdout",
     "output_type": "stream",
     "text": [
      "['srinath', 'amith', 'anil', 'kiran', 'deekshith']\n"
     ]
    }
   ],
   "source": [
    "enames=[\"srinath\",\"amith\",\"anil\",\"kiran\",\"deekshith\"]\n",
    "print(enames)"
   ]
  },
  {
   "cell_type": "code",
   "execution_count": 3,
   "id": "78eeba43",
   "metadata": {},
   "outputs": [
    {
     "name": "stdout",
     "output_type": "stream",
     "text": [
      "srinath\n"
     ]
    }
   ],
   "source": [
    "enames=[\"srinath\",\"amith\",\"anil\",\"kiran\",\"deekshith\"]"
   ]
  },
  {
   "cell_type": "code",
   "execution_count": 4,
   "id": "c84ffe0e",
   "metadata": {},
   "outputs": [
    {
     "name": "stdout",
     "output_type": "stream",
     "text": [
      "srinath\n",
      "srinath\n"
     ]
    }
   ],
   "source": [
    "enames=[\"srinath\",\"amith\",\"anil\",\"kiran\",\"deekshith\"]\n",
    "print(enames[0])\n",
    "print(enames[-5])"
   ]
  },
  {
   "cell_type": "code",
   "execution_count": 5,
   "id": "24a55d88",
   "metadata": {},
   "outputs": [
    {
     "ename": "SyntaxError",
     "evalue": "expected ':' (2750314663.py, line 2)",
     "output_type": "error",
     "traceback": [
      "\u001b[1;36m  Cell \u001b[1;32mIn[5], line 2\u001b[1;36m\u001b[0m\n\u001b[1;33m    for ename in enames\u001b[0m\n\u001b[1;37m                       ^\u001b[0m\n\u001b[1;31mSyntaxError\u001b[0m\u001b[1;31m:\u001b[0m expected ':'\n"
     ]
    }
   ],
   "source": [
    "enames=[\"srinath\",\"amith\",\"anil\",\"kiran\",\"deekshith\"]\n",
    "for ename in enames"
   ]
  },
  {
   "cell_type": "code",
   "execution_count": 6,
   "id": "2bdc2b6b",
   "metadata": {},
   "outputs": [
    {
     "name": "stdout",
     "output_type": "stream",
     "text": [
      "srinath\n",
      "amith\n",
      "anil\n",
      "kiran\n",
      "deekshith\n"
     ]
    }
   ],
   "source": [
    "enames=[\"srinath\",\"amith\",\"anil\",\"kiran\",\"deekshith\"]\n",
    "for ename in enames:\n",
    "    print(ename)"
   ]
  },
  {
   "cell_type": "code",
   "execution_count": 7,
   "id": "1f54b51c",
   "metadata": {},
   "outputs": [
    {
     "ename": "NameError",
     "evalue": "name 'anil' is not defined",
     "output_type": "error",
     "traceback": [
      "\u001b[1;31m---------------------------------------------------------------------------\u001b[0m",
      "\u001b[1;31mNameError\u001b[0m                                 Traceback (most recent call last)",
      "Cell \u001b[1;32mIn[7], line 3\u001b[0m\n\u001b[0;32m      1\u001b[0m enames\u001b[38;5;241m=\u001b[39m[\u001b[38;5;124m\"\u001b[39m\u001b[38;5;124msrinath\u001b[39m\u001b[38;5;124m\"\u001b[39m,\u001b[38;5;124m\"\u001b[39m\u001b[38;5;124mamith\u001b[39m\u001b[38;5;124m\"\u001b[39m,\u001b[38;5;124m\"\u001b[39m\u001b[38;5;124manil\u001b[39m\u001b[38;5;124m\"\u001b[39m,\u001b[38;5;124m\"\u001b[39m\u001b[38;5;124mkiran\u001b[39m\u001b[38;5;124m\"\u001b[39m,\u001b[38;5;124m\"\u001b[39m\u001b[38;5;124mdeekshith\u001b[39m\u001b[38;5;124m\"\u001b[39m]\n\u001b[0;32m      2\u001b[0m \u001b[38;5;28;01mfor\u001b[39;00m ename \u001b[38;5;129;01min\u001b[39;00m enames:\n\u001b[1;32m----> 3\u001b[0m     \u001b[38;5;28;01mif\u001b[39;00m ename\u001b[38;5;241m==\u001b[39manil:\n\u001b[0;32m      4\u001b[0m         \u001b[38;5;28;01mbreak\u001b[39;00m;\n\u001b[0;32m      5\u001b[0m \u001b[38;5;28mprint\u001b[39m(ename)\n",
      "\u001b[1;31mNameError\u001b[0m: name 'anil' is not defined"
     ]
    }
   ],
   "source": [
    "enames=[\"srinath\",\"amith\",\"anil\",\"kiran\",\"deekshith\"]\n",
    "for ename in enames:\n",
    "    if ename==anil:\n",
    "        break;\n",
    "print(ename)"
   ]
  },
  {
   "cell_type": "code",
   "execution_count": 8,
   "id": "bdc51d7e",
   "metadata": {},
   "outputs": [
    {
     "ename": "SyntaxError",
     "evalue": "invalid syntax. Maybe you meant '==' or ':=' instead of '='? (3482209150.py, line 3)",
     "output_type": "error",
     "traceback": [
      "\u001b[1;36m  Cell \u001b[1;32mIn[8], line 3\u001b[1;36m\u001b[0m\n\u001b[1;33m    if ename=\"anil\":\u001b[0m\n\u001b[1;37m       ^\u001b[0m\n\u001b[1;31mSyntaxError\u001b[0m\u001b[1;31m:\u001b[0m invalid syntax. Maybe you meant '==' or ':=' instead of '='?\n"
     ]
    }
   ],
   "source": [
    "enames=[\"srinath\",\"amith\",\"anil\",\"kiran\",\"deekshith\"]\n",
    "for ename in enames:\n",
    "    if ename=\"anil\":\n",
    "        break;\n",
    "    print(ename)"
   ]
  },
  {
   "cell_type": "code",
   "execution_count": 11,
   "id": "e164a3ce",
   "metadata": {},
   "outputs": [
    {
     "name": "stdout",
     "output_type": "stream",
     "text": [
      "anil\n"
     ]
    }
   ],
   "source": [
    "enames=[\"srinath\",\"amith\",\"anil\",\"kiran\",\"deekshith\"]\n",
    "for ename in enames:\n",
    "    if ename==\"anil\":\n",
    "        break;\n",
    "print(ename)"
   ]
  },
  {
   "cell_type": "code",
   "execution_count": 12,
   "id": "91177662",
   "metadata": {},
   "outputs": [
    {
     "ename": "SyntaxError",
     "evalue": "invalid syntax. Maybe you meant '==' or ':=' instead of '='? (2760815414.py, line 3)",
     "output_type": "error",
     "traceback": [
      "\u001b[1;36m  Cell \u001b[1;32mIn[12], line 3\u001b[1;36m\u001b[0m\n\u001b[1;33m    if ename=\"anil\":\u001b[0m\n\u001b[1;37m       ^\u001b[0m\n\u001b[1;31mSyntaxError\u001b[0m\u001b[1;31m:\u001b[0m invalid syntax. Maybe you meant '==' or ':=' instead of '='?\n"
     ]
    }
   ],
   "source": [
    "enames=[\"srinath\",\"amith\",\"anil\",\"kiran\",\"deekshith\"]\n",
    "for ename in enames:\n",
    "    if ename=\"anil\":\n",
    "        break;\n",
    "print(ename)"
   ]
  },
  {
   "cell_type": "code",
   "execution_count": 15,
   "id": "ac35c66f",
   "metadata": {},
   "outputs": [
    {
     "ename": "SyntaxError",
     "evalue": "invalid syntax (2032905240.py, line 2)",
     "output_type": "error",
     "traceback": [
      "\u001b[1;36m  Cell \u001b[1;32mIn[15], line 2\u001b[1;36m\u001b[0m\n\u001b[1;33m    print(enames,if enames==\"anil\": break;)\u001b[0m\n\u001b[1;37m                 ^\u001b[0m\n\u001b[1;31mSyntaxError\u001b[0m\u001b[1;31m:\u001b[0m invalid syntax\n"
     ]
    }
   ],
   "source": [
    "enames=[\"srinath\",\"amith\",\"anil\",\"kiran\",\"deekshith\"]\n",
    "print(enames,if enames==\"anil\": break;)"
   ]
  },
  {
   "cell_type": "code",
   "execution_count": 18,
   "id": "d814e6d0",
   "metadata": {},
   "outputs": [
    {
     "name": "stdout",
     "output_type": "stream",
     "text": [
      "srinath\n",
      "amith\n",
      "kiran\n",
      "deekshith\n"
     ]
    }
   ],
   "source": [
    "enames=[\"srinath\",\"amith\",\"anil\",\"kiran\",\"deekshith\"]\n",
    "for ename in enames:\n",
    "    if ename==\"anil\":\n",
    "        continue\n",
    "    print(ename)"
   ]
  },
  {
   "cell_type": "code",
   "execution_count": null,
   "id": "2539deb7",
   "metadata": {},
   "outputs": [],
   "source": []
  }
 ],
 "metadata": {
  "kernelspec": {
   "display_name": "Python 3 (ipykernel)",
   "language": "python",
   "name": "python3"
  },
  "language_info": {
   "codemirror_mode": {
    "name": "ipython",
    "version": 3
   },
   "file_extension": ".py",
   "mimetype": "text/x-python",
   "name": "python",
   "nbconvert_exporter": "python",
   "pygments_lexer": "ipython3",
   "version": "3.11.4"
  }
 },
 "nbformat": 4,
 "nbformat_minor": 5
}
