{
 "cells": [
  {
   "cell_type": "code",
   "execution_count": 11,
   "id": "9ea88ef8",
   "metadata": {},
   "outputs": [
    {
     "name": "stdout",
     "output_type": "stream",
     "text": [
      "500\n"
     ]
    }
   ],
   "source": [
    "mini_bal=500\n",
    "def account():\n",
    "    print(mini_bal)\n",
    "account()"
   ]
  },
  {
   "cell_type": "code",
   "execution_count": 10,
   "id": "a4a91077",
   "metadata": {},
   "outputs": [
    {
     "name": "stdout",
     "output_type": "stream",
     "text": [
      "400\n"
     ]
    }
   ],
   "source": [
    "mini_bal=500\n",
    "def account():\n",
    "    mini_bal=400\n",
    "    print(mini_bal)\n",
    "    \n",
    "account()"
   ]
  },
  {
   "cell_type": "code",
   "execution_count": 8,
   "id": "c24129fc",
   "metadata": {},
   "outputs": [
    {
     "name": "stdout",
     "output_type": "stream",
     "text": [
      "400\n"
     ]
    }
   ],
   "source": [
    "a=500\n",
    "def min_bal():\n",
    "    a=400\n",
    "    print(a)\n",
    "    \n",
    "    \n",
    "min_bal()"
   ]
  },
  {
   "cell_type": "code",
   "execution_count": 13,
   "id": "ef192121",
   "metadata": {},
   "outputs": [
    {
     "name": "stdout",
     "output_type": "stream",
     "text": [
      "500\n"
     ]
    }
   ],
   "source": [
    "min_bal=500\n",
    "def account():\n",
    "    min_bal=400\n",
    "    print(globals()['min_bal'])\n",
    "    \n",
    "account()"
   ]
  },
  {
   "cell_type": "code",
   "execution_count": 18,
   "id": "56c38527",
   "metadata": {},
   "outputs": [
    {
     "name": "stdout",
     "output_type": "stream",
     "text": [
      "i am a outer function\n"
     ]
    }
   ],
   "source": [
    "def outer():\n",
    "    print(\"i am a outer function\")\n",
    "    def inner():\n",
    "        print(\"i am a inner function\")\n",
    "        return inner\n",
    "    \n",
    "outer()"
   ]
  },
  {
   "cell_type": "code",
   "execution_count": 23,
   "id": "b3afd434",
   "metadata": {},
   "outputs": [
    {
     "ename": "IndentationError",
     "evalue": "unexpected indent (573364351.py, line 11)",
     "output_type": "error",
     "traceback": [
      "\u001b[1;36m  Cell \u001b[1;32mIn[23], line 11\u001b[1;36m\u001b[0m\n\u001b[1;33m    inner()\u001b[0m\n\u001b[1;37m    ^\u001b[0m\n\u001b[1;31mIndentationError\u001b[0m\u001b[1;31m:\u001b[0m unexpected indent\n"
     ]
    }
   ],
   "source": [
    "def outer():\n",
    "    print(\"i am a outer function\")\n",
    "    def inner():\n",
    "        print(\"i am a inner function\")\n",
    "        return inner\n",
    "\n",
    "    \n",
    "    \n",
    "inner = outer()\n",
    "\n",
    "inner()"
   ]
  },
  {
   "cell_type": "code",
   "execution_count": 1,
   "id": "4afbf294",
   "metadata": {},
   "outputs": [
    {
     "name": "stdout",
     "output_type": "stream",
     "text": [
      "i am a outer function\n",
      "i am a inner function\n"
     ]
    }
   ],
   "source": [
    "def outer():\n",
    "    print(\"i am a outer function\")\n",
    "    def inner():\n",
    "        print(\"i am a inner function\")\n",
    "    return inner\n",
    "inner=outer()\n",
    "inner()"
   ]
  },
  {
   "cell_type": "code",
   "execution_count": 8,
   "id": "8f802448",
   "metadata": {},
   "outputs": [
    {
     "name": "stdout",
     "output_type": "stream",
     "text": [
      "i am outer function\n"
     ]
    }
   ],
   "source": [
    "def account():\n",
    "    print(\"i am outer function\")\n",
    "    def inner():\n",
    "        print(\"i am inner function\")\n",
    "    return inner\n",
    "\n",
    "x=account()"
   ]
  },
  {
   "cell_type": "code",
   "execution_count": 9,
   "id": "316b3aab",
   "metadata": {},
   "outputs": [
    {
     "name": "stdout",
     "output_type": "stream",
     "text": [
      "i am outer function\n",
      "i am inner function\n"
     ]
    }
   ],
   "source": [
    "def account():\n",
    "    print(\"i am outer function\")\n",
    "    def inner():\n",
    "        print(\"i am inner function\")\n",
    "    return inner\n",
    "\n",
    "x=account()\n",
    "x()"
   ]
  },
  {
   "cell_type": "code",
   "execution_count": 10,
   "id": "84e0265e",
   "metadata": {},
   "outputs": [
    {
     "name": "stdout",
     "output_type": "stream",
     "text": [
      "i am outer function\n",
      "i am inner function\n",
      "i am inner function\n",
      "i am inner function\n"
     ]
    }
   ],
   "source": [
    "def account():\n",
    "    print(\"i am outer function\")\n",
    "    def inner():\n",
    "        print(\"i am inner function\")\n",
    "    return inner\n",
    "\n",
    "x=account()\n",
    "x()\n",
    "x()\n",
    "x()"
   ]
  },
  {
   "cell_type": "code",
   "execution_count": 11,
   "id": "81cb6587",
   "metadata": {},
   "outputs": [
    {
     "name": "stdout",
     "output_type": "stream",
     "text": [
      "400\n"
     ]
    }
   ],
   "source": [
    "min_bal=500\n",
    "def cal():\n",
    "    min_bal=400\n",
    "    print(min_bal)\n",
    "cal()"
   ]
  },
  {
   "cell_type": "code",
   "execution_count": 13,
   "id": "e136ff0f",
   "metadata": {},
   "outputs": [
    {
     "name": "stdout",
     "output_type": "stream",
     "text": [
      "500\n"
     ]
    }
   ],
   "source": [
    "min_bal=500\n",
    "def cal():\n",
    "    min_bal=400\n",
    "    print(globals()['min_bal'])\n",
    "cal()"
   ]
  },
  {
   "cell_type": "code",
   "execution_count": 14,
   "id": "72c8461c",
   "metadata": {},
   "outputs": [
    {
     "name": "stdout",
     "output_type": "stream",
     "text": [
      "500\n"
     ]
    }
   ],
   "source": [
    "min_bal=500\n",
    "def cal():\n",
    "    print(min_bal)\n",
    "cal()"
   ]
  },
  {
   "cell_type": "code",
   "execution_count": 21,
   "id": "6f5ebfff",
   "metadata": {},
   "outputs": [
    {
     "name": "stdout",
     "output_type": "stream",
     "text": [
      "420\n"
     ]
    }
   ],
   "source": [
    "min_bal=400\n",
    "def cal():\n",
    "    global min_bal\n",
    "    Min_bal=min_bal+20\n",
    "    print(Min_bal)\n",
    "    \n",
    "cal()"
   ]
  },
  {
   "cell_type": "code",
   "execution_count": 22,
   "id": "f92e8af0",
   "metadata": {},
   "outputs": [
    {
     "name": "stdout",
     "output_type": "stream",
     "text": [
      "420\n",
      "400\n"
     ]
    }
   ],
   "source": [
    "min_bal=400\n",
    "def cal():\n",
    "    global min_bal\n",
    "    Min_bal=min_bal+20\n",
    "    print(Min_bal)\n",
    "    \n",
    "cal()\n",
    "print(min_bal)"
   ]
  },
  {
   "cell_type": "code",
   "execution_count": 27,
   "id": "c5a5229e",
   "metadata": {},
   "outputs": [
    {
     "name": "stdout",
     "output_type": "stream",
     "text": [
      "230\n",
      "10\n"
     ]
    }
   ],
   "source": [
    "Sum =10\n",
    "def caluc():\n",
    "    global Sum\n",
    "    summ=Sum+20\n",
    "    currentsum=200\n",
    "    totalsum=summ+currentsum\n",
    "    print(totalsum)\n",
    "\n",
    "    \n",
    "caluc()\n",
    "print(Sum)"
   ]
  },
  {
   "cell_type": "code",
   "execution_count": null,
   "id": "94829884",
   "metadata": {},
   "outputs": [],
   "source": []
  }
 ],
 "metadata": {
  "kernelspec": {
   "display_name": "Python 3 (ipykernel)",
   "language": "python",
   "name": "python3"
  },
  "language_info": {
   "codemirror_mode": {
    "name": "ipython",
    "version": 3
   },
   "file_extension": ".py",
   "mimetype": "text/x-python",
   "name": "python",
   "nbconvert_exporter": "python",
   "pygments_lexer": "ipython3",
   "version": "3.11.4"
  }
 },
 "nbformat": 4,
 "nbformat_minor": 5
}
