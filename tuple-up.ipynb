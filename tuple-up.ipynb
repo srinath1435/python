{
 "cells": [
  {
   "cell_type": "code",
   "execution_count": 1,
   "id": "c398488e",
   "metadata": {},
   "outputs": [
    {
     "name": "stdout",
     "output_type": "stream",
     "text": [
      "('apple', 'banana', 'cherry', 'orange')\n"
     ]
    }
   ],
   "source": [
    "thistuple = (\"apple\", \"banana\", \"cherry\")\n",
    "x = (\"orange\",)\n",
    "thistuple += x\n",
    "\n",
    "print(thistuple)\n"
   ]
  },
  {
   "cell_type": "code",
   "execution_count": 2,
   "id": "7b22824d",
   "metadata": {},
   "outputs": [
    {
     "name": "stdout",
     "output_type": "stream",
     "text": [
      "['apple', 'banana', 'cherry']\n"
     ]
    }
   ],
   "source": [
    "thistuple = (\"apple\", \"banana\", \"cherry\")\n",
    "x =list(thistuple)\n",
    "print(x)"
   ]
  },
  {
   "cell_type": "code",
   "execution_count": 4,
   "id": "345d3909",
   "metadata": {},
   "outputs": [
    {
     "name": "stdout",
     "output_type": "stream",
     "text": [
      "('applebanana', 'cherry')\n",
      "['applebanana', 'cherry']\n",
      "['applebanana', 'cherry', 'mango']\n"
     ]
    }
   ],
   "source": [
    "thistuple = (\"apple\"\"banana\", \"cherry\")\n",
    "print(thistuple)\n",
    "x =list(thistuple)\n",
    "print(x)\n",
    "x.append(\"mango\")\n",
    "print(x)"
   ]
  },
  {
   "cell_type": "code",
   "execution_count": 6,
   "id": "939b2976",
   "metadata": {},
   "outputs": [
    {
     "name": "stdout",
     "output_type": "stream",
     "text": [
      "('applebanana', 'cherry')\n",
      "['applebanana', 'cherry']\n",
      "['applebanana', 'cherry', 'mango']\n",
      "('applebanana', 'cherry', 'mango')\n"
     ]
    }
   ],
   "source": [
    "thistuple = (\"apple\"\"banana\", \"cherry\")\n",
    "print(thistuple)\n",
    "x =list(thistuple)\n",
    "print(x)\n",
    "x.append(\"mango\")\n",
    "print(x)\n",
    "y=tuple(x)\n",
    "print(y)"
   ]
  },
  {
   "cell_type": "code",
   "execution_count": 9,
   "id": "ed7043fc",
   "metadata": {},
   "outputs": [
    {
     "name": "stdout",
     "output_type": "stream",
     "text": [
      "['apple', 'banana', 'cherry']\n",
      "banana\n",
      "['apple', 'banana', 'shree']\n"
     ]
    }
   ],
   "source": [
    "thistuple = (\"apple\", \"banana\", \"cherry\")\n",
    "x =list(thistuple)\n",
    "print(x)\n",
    "print(x[1])\n",
    "x[2]=\"shree\"\n",
    "print(x)"
   ]
  },
  {
   "cell_type": "code",
   "execution_count": null,
   "id": "57042b81",
   "metadata": {},
   "outputs": [],
   "source": [
    "thistuple = (\"apple\", \"banana\", \"cherry\")\n",
    "i=0\n",
    "while i < 3:\n",
    "\tprint(thistuple[i])\n",
    "    i=i+1\n",
    "\n"
   ]
  },
  {
   "cell_type": "code",
   "execution_count": null,
   "id": "e5d6ecf4",
   "metadata": {},
   "outputs": [],
   "source": []
  }
 ],
 "metadata": {
  "kernelspec": {
   "display_name": "Python 3 (ipykernel)",
   "language": "python",
   "name": "python3"
  },
  "language_info": {
   "codemirror_mode": {
    "name": "ipython",
    "version": 3
   },
   "file_extension": ".py",
   "mimetype": "text/x-python",
   "name": "python",
   "nbconvert_exporter": "python",
   "pygments_lexer": "ipython3",
   "version": "3.11.4"
  }
 },
 "nbformat": 4,
 "nbformat_minor": 5
}
