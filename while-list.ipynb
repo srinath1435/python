{
 "cells": [
  {
   "cell_type": "code",
   "execution_count": null,
   "id": "d5ff8350",
   "metadata": {},
   "outputs": [],
   "source": []
  },
  {
   "cell_type": "code",
   "execution_count": 6,
   "id": "ddf617fd",
   "metadata": {},
   "outputs": [
    {
     "name": "stdout",
     "output_type": "stream",
     "text": [
      "['srinath', 'amith', 'kiran', 'anil', 'deekshith']\n",
      "['srinath', 'amith', 'kiran', 'anil', 'deekshith']\n",
      "['srinath', 'amith', 'kiran', 'anil', 'deekshith']\n",
      "['srinath', 'amith', 'kiran', 'anil', 'deekshith']\n",
      "['srinath', 'amith', 'kiran', 'anil', 'deekshith']\n"
     ]
    }
   ],
   "source": [
    "enames=[\"srinath\",'amith',\"kiran\",\"anil\",'deekshith']\n",
    "i =0\n",
    "while i< len(enames):\n",
    "    print(enames)\n",
    "    i=i+1"
   ]
  },
  {
   "cell_type": "code",
   "execution_count": 7,
   "id": "79c4173c",
   "metadata": {},
   "outputs": [
    {
     "name": "stdout",
     "output_type": "stream",
     "text": [
      "srinath\n",
      "amith\n",
      "kiran\n",
      "anil\n",
      "deekshith\n"
     ]
    }
   ],
   "source": [
    "enames=[\"srinath\",'amith',\"kiran\",\"anil\",'deekshith']\n",
    "i =0\n",
    "while i< len(enames):\n",
    "    print(enames[i])\n",
    "    i=i+1"
   ]
  },
  {
   "cell_type": "code",
   "execution_count": 8,
   "id": "e58325c8",
   "metadata": {},
   "outputs": [
    {
     "name": "stdout",
     "output_type": "stream",
     "text": [
      "srinath\n",
      "amith\n",
      "kiran\n",
      "anil\n",
      "deekshith\n"
     ]
    },
    {
     "ename": "IndexError",
     "evalue": "list index out of range",
     "output_type": "error",
     "traceback": [
      "\u001b[1;31m---------------------------------------------------------------------------\u001b[0m",
      "\u001b[1;31mIndexError\u001b[0m                                Traceback (most recent call last)",
      "Cell \u001b[1;32mIn[8], line 4\u001b[0m\n\u001b[0;32m      2\u001b[0m i \u001b[38;5;241m=\u001b[39m\u001b[38;5;241m0\u001b[39m\n\u001b[0;32m      3\u001b[0m \u001b[38;5;28;01mwhile\u001b[39;00m i\u001b[38;5;241m<\u001b[39m\u001b[38;5;241m=\u001b[39m\u001b[38;5;28mlen\u001b[39m(enames):\n\u001b[1;32m----> 4\u001b[0m     \u001b[38;5;28mprint\u001b[39m(enames[i])\n\u001b[0;32m      5\u001b[0m     i\u001b[38;5;241m=\u001b[39mi\u001b[38;5;241m+\u001b[39m\u001b[38;5;241m1\u001b[39m\n",
      "\u001b[1;31mIndexError\u001b[0m: list index out of range"
     ]
    }
   ],
   "source": [
    "enames=[\"srinath\",'amith',\"kiran\",\"anil\",'deekshith']\n",
    "i =0\n",
    "while i<=len(enames):\n",
    "    print(enames[i])\n",
    "    i=i+1"
   ]
  },
  {
   "cell_type": "code",
   "execution_count": 9,
   "id": "ba7a81c6",
   "metadata": {},
   "outputs": [
    {
     "name": "stdout",
     "output_type": "stream",
     "text": [
      "srinath\n",
      "amith\n",
      "kiran\n",
      "anil\n",
      "deekshith\n"
     ]
    }
   ],
   "source": [
    "enames=[\"srinath\",'amith',\"kiran\",\"anil\",'deekshith']\n",
    "i =0\n",
    "while i<=len(enames)-1:\n",
    "    print(enames[i])\n",
    "    i=i+1"
   ]
  },
  {
   "cell_type": "code",
   "execution_count": 5,
   "id": "6639b22d",
   "metadata": {},
   "outputs": [
    {
     "name": "stdout",
     "output_type": "stream",
     "text": [
      "[10, 102, 103, 104, 400, 105]\n",
      "105\n"
     ]
    }
   ],
   "source": [
    "ids=[10,102,103,104]\n",
    "ids.insert(10,400)\n",
    "ids.append(105)\n",
    "print(ids)\n",
    "print(ids[-1])"
   ]
  },
  {
   "cell_type": "code",
   "execution_count": 6,
   "id": "ba0c39db",
   "metadata": {},
   "outputs": [
    {
     "data": {
      "text/plain": [
       "105"
      ]
     },
     "execution_count": 6,
     "metadata": {},
     "output_type": "execute_result"
    }
   ],
   "source": [
    "ids=[10, 102, 103, 104, 400, 105]\n",
    "ids.pop()"
   ]
  },
  {
   "cell_type": "code",
   "execution_count": 9,
   "id": "3a6e60c2",
   "metadata": {},
   "outputs": [
    {
     "name": "stdout",
     "output_type": "stream",
     "text": [
      "[101, 102, 103, 104, 105]\n"
     ]
    }
   ],
   "source": [
    "ids=[101, 102, 103, 104, 400, 105]\n",
    "ids.remove(400)\n",
    "print(ids)"
   ]
  },
  {
   "cell_type": "code",
   "execution_count": 11,
   "id": "a3afc5c7",
   "metadata": {},
   "outputs": [
    {
     "name": "stdout",
     "output_type": "stream",
     "text": [
      "[102, 103, 104, 400]\n"
     ]
    }
   ],
   "source": [
    "# slice \n",
    "ids=[101, 102, 103, 104, 400, 105]\n",
    "print(ids[1:5])"
   ]
  },
  {
   "cell_type": "code",
   "execution_count": 12,
   "id": "35172e6a",
   "metadata": {},
   "outputs": [
    {
     "name": "stdout",
     "output_type": "stream",
     "text": [
      "None\n"
     ]
    }
   ],
   "source": [
    "ids=[101, 102, 103, 104, 400, 105]\n",
    "print(ids.clear())"
   ]
  },
  {
   "cell_type": "code",
   "execution_count": 13,
   "id": "33340e28",
   "metadata": {},
   "outputs": [
    {
     "name": "stdout",
     "output_type": "stream",
     "text": [
      "[]\n"
     ]
    }
   ],
   "source": [
    "ids=[101, 102, 103, 104, 400, 105]\n",
    "ids.clear()\n",
    "print(ids)"
   ]
  },
  {
   "cell_type": "code",
   "execution_count": 14,
   "id": "3bdfc90d",
   "metadata": {},
   "outputs": [
    {
     "name": "stdout",
     "output_type": "stream",
     "text": [
      "[105, 400, 104, 103, 102, 101]\n"
     ]
    }
   ],
   "source": [
    "ids=[101, 102, 103, 104, 400, 105]\n",
    "ids.reverse()\n",
    "print(ids)"
   ]
  },
  {
   "cell_type": "code",
   "execution_count": null,
   "id": "0808096a",
   "metadata": {},
   "outputs": [],
   "source": []
  }
 ],
 "metadata": {
  "kernelspec": {
   "display_name": "Python 3 (ipykernel)",
   "language": "python",
   "name": "python3"
  },
  "language_info": {
   "codemirror_mode": {
    "name": "ipython",
    "version": 3
   },
   "file_extension": ".py",
   "mimetype": "text/x-python",
   "name": "python",
   "nbconvert_exporter": "python",
   "pygments_lexer": "ipython3",
   "version": "3.11.4"
  }
 },
 "nbformat": 4,
 "nbformat_minor": 5
}
